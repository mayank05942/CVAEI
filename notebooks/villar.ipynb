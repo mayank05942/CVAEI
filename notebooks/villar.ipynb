{
 "cells": [
  {
   "cell_type": "code",
   "execution_count": 1,
   "metadata": {},
   "outputs": [
    {
     "name": "stdout",
     "output_type": "stream",
     "text": [
      "Defaulting to user installation because normal site-packages is not writeable\n",
      "Obtaining file:///Users/mayanknautiyal/Desktop/Codes/CVAEI\n",
      "  Preparing metadata (setup.py) ... \u001b[?25ldone\n",
      "\u001b[?25hRequirement already satisfied: torch in /Users/mayanknautiyal/Library/Python/3.9/lib/python/site-packages (from cvaei==0.1.0) (2.2.0)\n",
      "Requirement already satisfied: numpy in /Users/mayanknautiyal/Library/Python/3.9/lib/python/site-packages (from cvaei==0.1.0) (1.26.4)\n",
      "Requirement already satisfied: matplotlib in /Users/mayanknautiyal/Library/Python/3.9/lib/python/site-packages (from cvaei==0.1.0) (3.7.1)\n",
      "Requirement already satisfied: seaborn in /Users/mayanknautiyal/Library/Python/3.9/lib/python/site-packages (from cvaei==0.1.0) (0.13.2)\n",
      "Requirement already satisfied: hyperopt in /Users/mayanknautiyal/Library/Python/3.9/lib/python/site-packages (from cvaei==0.1.0) (0.2.7)\n",
      "Requirement already satisfied: gillespy2 in /Users/mayanknautiyal/Library/Python/3.9/lib/python/site-packages (from cvaei==0.1.0) (1.8.1)\n",
      "Requirement already satisfied: plotly>=4.1.0 in /Users/mayanknautiyal/Library/Python/3.9/lib/python/site-packages (from gillespy2->cvaei==0.1.0) (5.14.1)\n",
      "Requirement already satisfied: scipy>=1.3.1 in /Users/mayanknautiyal/Library/Python/3.9/lib/python/site-packages (from gillespy2->cvaei==0.1.0) (1.12.0)\n",
      "Requirement already satisfied: setuptools>=41.0.1 in /Users/mayanknautiyal/Library/Python/3.9/lib/python/site-packages (from gillespy2->cvaei==0.1.0) (67.6.1)\n",
      "Requirement already satisfied: scons>=4.4.0 in /Users/mayanknautiyal/Library/Python/3.9/lib/python/site-packages (from gillespy2->cvaei==0.1.0) (4.5.2)\n",
      "Requirement already satisfied: contourpy>=1.0.1 in /Users/mayanknautiyal/Library/Python/3.9/lib/python/site-packages (from matplotlib->cvaei==0.1.0) (1.0.7)\n",
      "Requirement already satisfied: cycler>=0.10 in /Users/mayanknautiyal/Library/Python/3.9/lib/python/site-packages (from matplotlib->cvaei==0.1.0) (0.11.0)\n",
      "Requirement already satisfied: fonttools>=4.22.0 in /Users/mayanknautiyal/Library/Python/3.9/lib/python/site-packages (from matplotlib->cvaei==0.1.0) (4.39.3)\n",
      "Requirement already satisfied: kiwisolver>=1.0.1 in /Users/mayanknautiyal/Library/Python/3.9/lib/python/site-packages (from matplotlib->cvaei==0.1.0) (1.4.4)\n",
      "Requirement already satisfied: packaging>=20.0 in /Users/mayanknautiyal/Library/Python/3.9/lib/python/site-packages (from matplotlib->cvaei==0.1.0) (23.2)\n",
      "Requirement already satisfied: pillow>=6.2.0 in /Users/mayanknautiyal/Library/Python/3.9/lib/python/site-packages (from matplotlib->cvaei==0.1.0) (9.5.0)\n",
      "Requirement already satisfied: pyparsing>=2.3.1 in /Users/mayanknautiyal/Library/Python/3.9/lib/python/site-packages (from matplotlib->cvaei==0.1.0) (3.0.9)\n",
      "Requirement already satisfied: python-dateutil>=2.7 in /Users/mayanknautiyal/Library/Python/3.9/lib/python/site-packages (from matplotlib->cvaei==0.1.0) (2.8.2)\n",
      "Requirement already satisfied: importlib-resources>=3.2.0 in /Users/mayanknautiyal/Library/Python/3.9/lib/python/site-packages (from matplotlib->cvaei==0.1.0) (5.12.0)\n",
      "Requirement already satisfied: six in /Users/mayanknautiyal/Library/Python/3.9/lib/python/site-packages (from hyperopt->cvaei==0.1.0) (1.16.0)\n",
      "Requirement already satisfied: networkx>=2.2 in /Users/mayanknautiyal/Library/Python/3.9/lib/python/site-packages (from hyperopt->cvaei==0.1.0) (3.2.1)\n",
      "Requirement already satisfied: future in /Users/mayanknautiyal/Library/Python/3.9/lib/python/site-packages (from hyperopt->cvaei==0.1.0) (0.18.3)\n",
      "Requirement already satisfied: tqdm in /Users/mayanknautiyal/Library/Python/3.9/lib/python/site-packages (from hyperopt->cvaei==0.1.0) (4.66.2)\n",
      "Requirement already satisfied: cloudpickle in /Users/mayanknautiyal/Library/Python/3.9/lib/python/site-packages (from hyperopt->cvaei==0.1.0) (3.0.0)\n",
      "Requirement already satisfied: py4j in /Users/mayanknautiyal/Library/Python/3.9/lib/python/site-packages (from hyperopt->cvaei==0.1.0) (0.10.9.7)\n",
      "Requirement already satisfied: pandas>=1.2 in /Users/mayanknautiyal/Library/Python/3.9/lib/python/site-packages (from seaborn->cvaei==0.1.0) (2.2.0)\n",
      "Requirement already satisfied: filelock in /Users/mayanknautiyal/Library/Python/3.9/lib/python/site-packages (from torch->cvaei==0.1.0) (3.13.1)\n",
      "Requirement already satisfied: typing-extensions>=4.8.0 in /Users/mayanknautiyal/Library/Python/3.9/lib/python/site-packages (from torch->cvaei==0.1.0) (4.9.0)\n",
      "Requirement already satisfied: sympy in /Users/mayanknautiyal/Library/Python/3.9/lib/python/site-packages (from torch->cvaei==0.1.0) (1.12)\n",
      "Requirement already satisfied: jinja2 in /Users/mayanknautiyal/Library/Python/3.9/lib/python/site-packages (from torch->cvaei==0.1.0) (3.1.2)\n",
      "Requirement already satisfied: fsspec in /Users/mayanknautiyal/Library/Python/3.9/lib/python/site-packages (from torch->cvaei==0.1.0) (2024.2.0)\n",
      "Requirement already satisfied: zipp>=3.1.0 in /Users/mayanknautiyal/Library/Python/3.9/lib/python/site-packages (from importlib-resources>=3.2.0->matplotlib->cvaei==0.1.0) (3.15.0)\n",
      "Requirement already satisfied: pytz>=2020.1 in /Users/mayanknautiyal/Library/Python/3.9/lib/python/site-packages (from pandas>=1.2->seaborn->cvaei==0.1.0) (2024.1)\n",
      "Requirement already satisfied: tzdata>=2022.7 in /Users/mayanknautiyal/Library/Python/3.9/lib/python/site-packages (from pandas>=1.2->seaborn->cvaei==0.1.0) (2024.1)\n",
      "Requirement already satisfied: tenacity>=6.2.0 in /Users/mayanknautiyal/Library/Python/3.9/lib/python/site-packages (from plotly>=4.1.0->gillespy2->cvaei==0.1.0) (8.2.2)\n",
      "Requirement already satisfied: MarkupSafe>=2.0 in /Users/mayanknautiyal/Library/Python/3.9/lib/python/site-packages (from jinja2->torch->cvaei==0.1.0) (2.1.2)\n",
      "Requirement already satisfied: mpmath>=0.19 in /Users/mayanknautiyal/Library/Python/3.9/lib/python/site-packages (from sympy->torch->cvaei==0.1.0) (1.3.0)\n",
      "Installing collected packages: cvaei\n",
      "  Running setup.py develop for cvaei\n",
      "Successfully installed cvaei\n"
     ]
    }
   ],
   "source": [
    "!pip install -e ../."
   ]
  },
  {
   "cell_type": "code",
   "execution_count": 2,
   "metadata": {},
   "outputs": [],
   "source": [
    "# %pip install --upgrade pip\n",
    "# %pip install --force-reinstall \"ray[tune]\" hyperopt\n"
   ]
  },
  {
   "cell_type": "code",
   "execution_count": 3,
   "metadata": {},
   "outputs": [],
   "source": [
    "import sys\n",
    "sys.path.insert(0, '../')  \n"
   ]
  },
  {
   "cell_type": "code",
   "execution_count": 4,
   "metadata": {},
   "outputs": [
    {
     "name": "stdout",
     "output_type": "stream",
     "text": [
      "Using device: cpu\n",
      "False\n",
      "None\n"
     ]
    }
   ],
   "source": [
    "import cvaei\n",
    "import torch\n",
    "from torch.utils.data import DataLoader, TensorDataset\n",
    "import numpy as np\n",
    "from torch import nn, optim\n",
    "from cvaei.examples.villar import Villar\n",
    "from cvaei.models.conv_cvae import CNN_CVAE\n",
    "\n",
    "\n",
    "device = torch.device(\"cuda\" if torch.cuda.is_available() else \"cpu\")\n",
    "print(\"Using device:\", device)\n",
    "print(torch.cuda.is_available())\n",
    "print(torch.version.cuda)\n",
    "\n"
   ]
  },
  {
   "cell_type": "code",
   "execution_count": 5,
   "metadata": {},
   "outputs": [
    {
     "name": "stdout",
     "output_type": "stream",
     "text": [
      "Number of CPU cores being used: 4\n",
      "Training Theta Shape: torch.Size([6, 15])\n",
      "Training Data Shape: torch.Size([6, 3, 200])\n",
      "Number of CPU cores being used: 4\n",
      "Validation Theta Shape: torch.Size([4, 15])\n",
      "Validation Data Shape: torch.Size([4, 3, 200])\n",
      "torch.Size([1, 3, 200])\n"
     ]
    }
   ],
   "source": [
    "villar = Villar()\n",
    "train_theta_norm, train_data_norm, theta_normalizer, data_normalizer, val_theta_norm, val_data_norm = villar.prepare_data(6)\n",
    "observed_data = villar.observed_data()\n",
    "#villar.check_normalizer()"
   ]
  },
  {
   "cell_type": "code",
   "execution_count": 6,
   "metadata": {},
   "outputs": [
    {
     "data": {
      "text/plain": [
       "(torch.Size([6, 15]), torch.Size([6, 3, 200]))"
      ]
     },
     "execution_count": 6,
     "metadata": {},
     "output_type": "execute_result"
    }
   ],
   "source": [
    "train_theta_norm.shape, train_data_norm.shape"
   ]
  },
  {
   "cell_type": "markdown",
   "metadata": {},
   "source": [
    "# Initialise the Model"
   ]
  },
  {
   "cell_type": "code",
   "execution_count": 7,
   "metadata": {},
   "outputs": [],
   "source": [
    "villar.plot_observation(train_data_norm, num_samples =2)\n",
    "villar.plot_prior(train_theta_norm)"
   ]
  },
  {
   "cell_type": "markdown",
   "metadata": {},
   "source": [
    "# Define the CVAE Network"
   ]
  },
  {
   "cell_type": "code",
   "execution_count": null,
   "metadata": {},
   "outputs": [
    {
     "name": "stdout",
     "output_type": "stream",
     "text": [
      "CNN_CVAE(\n",
      "  (encoder): Encoder(\n",
      "    (layers): Sequential(\n",
      "      (0): Linear(in_features=15, out_features=512, bias=True)\n",
      "      (1): LeakyReLU(negative_slope=0.1)\n",
      "      (2): Linear(in_features=512, out_features=512, bias=True)\n",
      "      (3): LeakyReLU(negative_slope=0.1)\n",
      "    )\n",
      "    (fc_mean): Linear(in_features=512, out_features=200, bias=True)\n",
      "    (fc_logvar): Linear(in_features=512, out_features=200, bias=True)\n",
      "  )\n",
      "  (decoder): CNN_Decoder(\n",
      "    (fc_expand): Linear(in_features=200, out_features=200, bias=True)\n",
      "    (conv_layers): ModuleList(\n",
      "      (0): Conv1d(4, 64, kernel_size=(3,), stride=(1,), padding=(1,))\n",
      "      (1): Conv1d(64, 32, kernel_size=(3,), stride=(1,), padding=(1,))\n",
      "    )\n",
      "    (output_layer_1): Linear(in_features=6400, out_features=15, bias=True)\n",
      "    (output_layer_2): Conv1d(32, 3, kernel_size=(1,), stride=(1,))\n",
      "  )\n",
      ")\n"
     ]
    }
   ],
   "source": [
    "# Instantiate the CNN_CVAE model\n",
    "input_dim = 15  # Example input dimension\n",
    "latent_dim = 200  # Example latent space dimension\n",
    "conditional_dim = 3  # Based on Nx3x200 conditional input\n",
    "encoder_hidden_dims = [512,512]  # Example hidden dimensions for the encoder\n",
    "sequence_length = 200  # Length of sequences in the conditional input\n",
    "conv_output_channels = [64, 32]  # Channels in each Conv1D layer for the decoder\n",
    "kernel_sizes = [3, 3]  # Kernel sizes for the Conv1D layers in the decoder\n",
    "output_channels = 3  # Matching the original conditional input's channels\n",
    "\n",
    "\n",
    "\n",
    "network = CNN_CVAE(\n",
    "    input_dim=input_dim,\n",
    "    latent_dim=latent_dim,\n",
    "    conditional_dim=conditional_dim,\n",
    "    encoder_hidden_dims=encoder_hidden_dims,\n",
    "    decoder_hidden_dims=[],  # Assuming this is not used in the provided structure\n",
    "    sequence_length=sequence_length,\n",
    "    conv_output_channels=conv_output_channels,\n",
    "    kernel_sizes=kernel_sizes,\n",
    "    activation_fn= nn.LeakyReLU(0.1),\n",
    "    w_recon=1.0,\n",
    "    w_misfit=1.0,\n",
    "    kld=1.0\n",
    ")\n",
    "\n",
    "optimizer = optim.AdamW(network.parameters(), lr=1e-3)\n",
    "\n",
    "# train_dataset = TensorDataset(train_data_norm, train_theta_norm)\n",
    "# val_dataset = TensorDataset(val_data_norm, val_theta_norm)\n",
    "\n",
    "# train_loader = DataLoader(dataset=train_dataset, batch_size=128, shuffle=True)\n",
    "# validation_loader = DataLoader(dataset=val_dataset, batch_size=128, shuffle=False)\n",
    "\n",
    "print(network)"
   ]
  },
  {
   "cell_type": "code",
   "execution_count": null,
   "metadata": {},
   "outputs": [
    {
     "ename": "AttributeError",
     "evalue": "'CNN_CVAE' object has no attribute 'train_model'",
     "output_type": "error",
     "traceback": [
      "\u001b[0;31m---------------------------------------------------------------------------\u001b[0m",
      "\u001b[0;31mAttributeError\u001b[0m                            Traceback (most recent call last)",
      "Cell \u001b[0;32mIn[9], line 1\u001b[0m\n\u001b[0;32m----> 1\u001b[0m \u001b[43mnetwork\u001b[49m\u001b[38;5;241;43m.\u001b[39;49m\u001b[43mtrain_model\u001b[49m(train_loader\u001b[38;5;241m=\u001b[39mtrain_loader,\n\u001b[1;32m      2\u001b[0m                     validation_loader\u001b[38;5;241m=\u001b[39m validation_loader,\n\u001b[1;32m      3\u001b[0m                     optimizer\u001b[38;5;241m=\u001b[39moptimizer,\n\u001b[1;32m      4\u001b[0m                     epochs\u001b[38;5;241m=\u001b[39m\u001b[38;5;241m20\u001b[39m,\n\u001b[1;32m      5\u001b[0m                     num_cycles \u001b[38;5;241m=\u001b[39m \u001b[38;5;241m1\u001b[39m,\n\u001b[1;32m      6\u001b[0m                     theta_normalizer\u001b[38;5;241m=\u001b[39mtheta_normalizer,\n\u001b[1;32m      7\u001b[0m                     data_normalizer\u001b[38;5;241m=\u001b[39mdata_normalizer,\n\u001b[1;32m      8\u001b[0m                     \n\u001b[1;32m      9\u001b[0m                     patience\u001b[38;5;241m=\u001b[39m\u001b[38;5;241m100\u001b[39m)\n",
      "File \u001b[0;32m~/Library/Python/3.9/lib/python/site-packages/torch/nn/modules/module.py:1688\u001b[0m, in \u001b[0;36mModule.__getattr__\u001b[0;34m(self, name)\u001b[0m\n\u001b[1;32m   1686\u001b[0m     \u001b[38;5;28;01mif\u001b[39;00m name \u001b[38;5;129;01min\u001b[39;00m modules:\n\u001b[1;32m   1687\u001b[0m         \u001b[38;5;28;01mreturn\u001b[39;00m modules[name]\n\u001b[0;32m-> 1688\u001b[0m \u001b[38;5;28;01mraise\u001b[39;00m \u001b[38;5;167;01mAttributeError\u001b[39;00m(\u001b[38;5;124mf\u001b[39m\u001b[38;5;124m\"\u001b[39m\u001b[38;5;124m'\u001b[39m\u001b[38;5;132;01m{\u001b[39;00m\u001b[38;5;28mtype\u001b[39m(\u001b[38;5;28mself\u001b[39m)\u001b[38;5;241m.\u001b[39m\u001b[38;5;18m__name__\u001b[39m\u001b[38;5;132;01m}\u001b[39;00m\u001b[38;5;124m'\u001b[39m\u001b[38;5;124m object has no attribute \u001b[39m\u001b[38;5;124m'\u001b[39m\u001b[38;5;132;01m{\u001b[39;00mname\u001b[38;5;132;01m}\u001b[39;00m\u001b[38;5;124m'\u001b[39m\u001b[38;5;124m\"\u001b[39m)\n",
      "\u001b[0;31mAttributeError\u001b[0m: 'CNN_CVAE' object has no attribute 'train_model'"
     ]
    }
   ],
   "source": [
    "network.train_model(train_loader=train_loader,\n",
    "                    validation_loader= validation_loader,\n",
    "                    optimizer=optimizer,\n",
    "                    epochs=20,\n",
    "                    num_cycles = 1,\n",
    "                    theta_normalizer=theta_normalizer,\n",
    "                    data_normalizer=data_normalizer,\n",
    "                    \n",
    "                    patience=100)"
   ]
  },
  {
   "cell_type": "code",
   "execution_count": null,
   "metadata": {},
   "outputs": [],
   "source": [
    "network.plot_loss()"
   ]
  },
  {
   "cell_type": "markdown",
   "metadata": {},
   "source": [
    "# Inference"
   ]
  },
  {
   "cell_type": "code",
   "execution_count": null,
   "metadata": {},
   "outputs": [],
   "source": [
    "post = network.get_posterior(observed_data= observed_data, num_samples=10000)\n",
    "post = theta_normalizer.inverse_transform(post)\n"
   ]
  },
  {
   "cell_type": "code",
   "execution_count": null,
   "metadata": {},
   "outputs": [],
   "source": [
    "#gk_dist.plot_posterior(post)"
   ]
  },
  {
   "cell_type": "code",
   "execution_count": null,
   "metadata": {},
   "outputs": [],
   "source": [
    "gk_dist.posterior_hist(post)"
   ]
  }
 ],
 "metadata": {
  "kernelspec": {
   "display_name": "Python 3",
   "language": "python",
   "name": "python3"
  },
  "language_info": {
   "codemirror_mode": {
    "name": "ipython",
    "version": 3
   },
   "file_extension": ".py",
   "mimetype": "text/x-python",
   "name": "python",
   "nbconvert_exporter": "python",
   "pygments_lexer": "ipython3",
   "version": "3.9.6"
  }
 },
 "nbformat": 4,
 "nbformat_minor": 2
}
