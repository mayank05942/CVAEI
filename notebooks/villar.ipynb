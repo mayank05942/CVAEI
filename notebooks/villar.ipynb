{
 "cells": [
  {
   "cell_type": "code",
   "execution_count": 1,
   "metadata": {},
   "outputs": [
    {
     "name": "stdout",
     "output_type": "stream",
     "text": [
      "Defaulting to user installation because normal site-packages is not writeable\n",
      "Obtaining file:///Users/mayanknautiyal/Desktop/Codes/CVAEI\n",
      "  Preparing metadata (setup.py) ... \u001b[?25ldone\n",
      "\u001b[?25hRequirement already satisfied: torch in /Users/mayanknautiyal/Library/Python/3.9/lib/python/site-packages (from cvaei==0.1.0) (2.2.0)\n",
      "Requirement already satisfied: numpy in /Users/mayanknautiyal/Library/Python/3.9/lib/python/site-packages (from cvaei==0.1.0) (1.26.4)\n",
      "Requirement already satisfied: matplotlib in /Users/mayanknautiyal/Library/Python/3.9/lib/python/site-packages (from cvaei==0.1.0) (3.7.1)\n",
      "Requirement already satisfied: seaborn in /Users/mayanknautiyal/Library/Python/3.9/lib/python/site-packages (from cvaei==0.1.0) (0.13.2)\n",
      "Requirement already satisfied: hyperopt in /Users/mayanknautiyal/Library/Python/3.9/lib/python/site-packages (from cvaei==0.1.0) (0.2.7)\n",
      "Requirement already satisfied: gillespy2 in /Users/mayanknautiyal/Library/Python/3.9/lib/python/site-packages (from cvaei==0.1.0) (1.8.1)\n",
      "Requirement already satisfied: plotly>=4.1.0 in /Users/mayanknautiyal/Library/Python/3.9/lib/python/site-packages (from gillespy2->cvaei==0.1.0) (5.14.1)\n",
      "Requirement already satisfied: scipy>=1.3.1 in /Users/mayanknautiyal/Library/Python/3.9/lib/python/site-packages (from gillespy2->cvaei==0.1.0) (1.12.0)\n",
      "Requirement already satisfied: setuptools>=41.0.1 in /Users/mayanknautiyal/Library/Python/3.9/lib/python/site-packages (from gillespy2->cvaei==0.1.0) (67.6.1)\n",
      "Requirement already satisfied: scons>=4.4.0 in /Users/mayanknautiyal/Library/Python/3.9/lib/python/site-packages (from gillespy2->cvaei==0.1.0) (4.5.2)\n",
      "Requirement already satisfied: contourpy>=1.0.1 in /Users/mayanknautiyal/Library/Python/3.9/lib/python/site-packages (from matplotlib->cvaei==0.1.0) (1.0.7)\n",
      "Requirement already satisfied: cycler>=0.10 in /Users/mayanknautiyal/Library/Python/3.9/lib/python/site-packages (from matplotlib->cvaei==0.1.0) (0.11.0)\n",
      "Requirement already satisfied: fonttools>=4.22.0 in /Users/mayanknautiyal/Library/Python/3.9/lib/python/site-packages (from matplotlib->cvaei==0.1.0) (4.39.3)\n",
      "Requirement already satisfied: kiwisolver>=1.0.1 in /Users/mayanknautiyal/Library/Python/3.9/lib/python/site-packages (from matplotlib->cvaei==0.1.0) (1.4.4)\n",
      "Requirement already satisfied: packaging>=20.0 in /Users/mayanknautiyal/Library/Python/3.9/lib/python/site-packages (from matplotlib->cvaei==0.1.0) (23.2)\n",
      "Requirement already satisfied: pillow>=6.2.0 in /Users/mayanknautiyal/Library/Python/3.9/lib/python/site-packages (from matplotlib->cvaei==0.1.0) (9.5.0)\n",
      "Requirement already satisfied: pyparsing>=2.3.1 in /Users/mayanknautiyal/Library/Python/3.9/lib/python/site-packages (from matplotlib->cvaei==0.1.0) (3.0.9)\n",
      "Requirement already satisfied: python-dateutil>=2.7 in /Users/mayanknautiyal/Library/Python/3.9/lib/python/site-packages (from matplotlib->cvaei==0.1.0) (2.8.2)\n",
      "Requirement already satisfied: importlib-resources>=3.2.0 in /Users/mayanknautiyal/Library/Python/3.9/lib/python/site-packages (from matplotlib->cvaei==0.1.0) (5.12.0)\n",
      "Requirement already satisfied: six in /Users/mayanknautiyal/Library/Python/3.9/lib/python/site-packages (from hyperopt->cvaei==0.1.0) (1.16.0)\n",
      "Requirement already satisfied: networkx>=2.2 in /Users/mayanknautiyal/Library/Python/3.9/lib/python/site-packages (from hyperopt->cvaei==0.1.0) (3.2.1)\n",
      "Requirement already satisfied: future in /Users/mayanknautiyal/Library/Python/3.9/lib/python/site-packages (from hyperopt->cvaei==0.1.0) (0.18.3)\n",
      "Requirement already satisfied: tqdm in /Users/mayanknautiyal/Library/Python/3.9/lib/python/site-packages (from hyperopt->cvaei==0.1.0) (4.66.2)\n",
      "Requirement already satisfied: cloudpickle in /Users/mayanknautiyal/Library/Python/3.9/lib/python/site-packages (from hyperopt->cvaei==0.1.0) (3.0.0)\n",
      "Requirement already satisfied: py4j in /Users/mayanknautiyal/Library/Python/3.9/lib/python/site-packages (from hyperopt->cvaei==0.1.0) (0.10.9.7)\n",
      "Requirement already satisfied: pandas>=1.2 in /Users/mayanknautiyal/Library/Python/3.9/lib/python/site-packages (from seaborn->cvaei==0.1.0) (2.2.0)\n",
      "Requirement already satisfied: filelock in /Users/mayanknautiyal/Library/Python/3.9/lib/python/site-packages (from torch->cvaei==0.1.0) (3.13.1)\n",
      "Requirement already satisfied: typing-extensions>=4.8.0 in /Users/mayanknautiyal/Library/Python/3.9/lib/python/site-packages (from torch->cvaei==0.1.0) (4.9.0)\n",
      "Requirement already satisfied: sympy in /Users/mayanknautiyal/Library/Python/3.9/lib/python/site-packages (from torch->cvaei==0.1.0) (1.12)\n",
      "Requirement already satisfied: jinja2 in /Users/mayanknautiyal/Library/Python/3.9/lib/python/site-packages (from torch->cvaei==0.1.0) (3.1.2)\n",
      "Requirement already satisfied: fsspec in /Users/mayanknautiyal/Library/Python/3.9/lib/python/site-packages (from torch->cvaei==0.1.0) (2024.2.0)\n",
      "Requirement already satisfied: zipp>=3.1.0 in /Users/mayanknautiyal/Library/Python/3.9/lib/python/site-packages (from importlib-resources>=3.2.0->matplotlib->cvaei==0.1.0) (3.15.0)\n",
      "Requirement already satisfied: pytz>=2020.1 in /Users/mayanknautiyal/Library/Python/3.9/lib/python/site-packages (from pandas>=1.2->seaborn->cvaei==0.1.0) (2024.1)\n",
      "Requirement already satisfied: tzdata>=2022.7 in /Users/mayanknautiyal/Library/Python/3.9/lib/python/site-packages (from pandas>=1.2->seaborn->cvaei==0.1.0) (2024.1)\n",
      "Requirement already satisfied: tenacity>=6.2.0 in /Users/mayanknautiyal/Library/Python/3.9/lib/python/site-packages (from plotly>=4.1.0->gillespy2->cvaei==0.1.0) (8.2.2)\n",
      "Requirement already satisfied: MarkupSafe>=2.0 in /Users/mayanknautiyal/Library/Python/3.9/lib/python/site-packages (from jinja2->torch->cvaei==0.1.0) (2.1.2)\n",
      "Requirement already satisfied: mpmath>=0.19 in /Users/mayanknautiyal/Library/Python/3.9/lib/python/site-packages (from sympy->torch->cvaei==0.1.0) (1.3.0)\n",
      "Installing collected packages: cvaei\n",
      "  Running setup.py develop for cvaei\n",
      "Successfully installed cvaei\n"
     ]
    }
   ],
   "source": [
    "!pip install -e ../."
   ]
  },
  {
   "cell_type": "code",
   "execution_count": 2,
   "metadata": {},
   "outputs": [],
   "source": [
    "# %pip install --upgrade pip\n",
    "# %pip install --force-reinstall \"ray[tune]\" hyperopt\n"
   ]
  },
  {
   "cell_type": "code",
   "execution_count": 3,
   "metadata": {},
   "outputs": [],
   "source": [
    "import sys\n",
    "sys.path.insert(0, '../')  \n"
   ]
  },
  {
   "cell_type": "code",
   "execution_count": 4,
   "metadata": {},
   "outputs": [
    {
     "name": "stdout",
     "output_type": "stream",
     "text": [
      "Using device: cpu\n",
      "False\n",
      "None\n"
     ]
    }
   ],
   "source": [
    "import cvaei\n",
    "import torch\n",
    "from torch.utils.data import DataLoader, TensorDataset\n",
    "import numpy as np\n",
    "from torch import nn, optim\n",
    "from cvaei.examples.villar import Villar\n",
    "from cvaei.models.conv_cvae import CNN_CVAE\n",
    "\n",
    "\n",
    "device = torch.device(\"cuda\" if torch.cuda.is_available() else \"cpu\")\n",
    "print(\"Using device:\", device)\n",
    "print(torch.cuda.is_available())\n",
    "print(torch.version.cuda)\n",
    "\n"
   ]
  },
  {
   "cell_type": "code",
   "execution_count": 5,
   "metadata": {},
   "outputs": [
    {
     "name": "stderr",
     "output_type": "stream",
     "text": [
      "2024-03-04 14:04:41,087 - GillesPy2 - WARNING - GillesPy2 simulation exceeded timeout.\n",
      "2024-03-04 14:04:41,090 - GillesPy2 - WARNING - GillesPy2 simulation exceeded timeout.\n",
      "2024-03-04 14:04:41,090 - GillesPy2 - WARNING - GillesPy2 simulation exceeded timeout.\n",
      "2024-03-04 14:04:41,132 - GillesPy2 - WARNING - GillesPy2 simulation exceeded timeout.\n",
      "2024-03-04 14:04:45,339 - GillesPy2 - WARNING - GillesPy2 simulation exceeded timeout.\n",
      "2024-03-04 14:04:45,342 - GillesPy2 - WARNING - GillesPy2 simulation exceeded timeout.\n",
      "2024-03-04 14:04:45,443 - GillesPy2 - WARNING - GillesPy2 simulation exceeded timeout.\n",
      "2024-03-04 14:04:49,840 - GillesPy2 - WARNING - GillesPy2 simulation exceeded timeout.\n",
      "2024-03-04 14:04:49,843 - GillesPy2 - WARNING - GillesPy2 simulation exceeded timeout.\n",
      "2024-03-04 14:04:49,935 - GillesPy2 - WARNING - GillesPy2 simulation exceeded timeout.\n",
      "2024-03-04 14:04:54,310 - GillesPy2 - WARNING - GillesPy2 simulation exceeded timeout.\n",
      "2024-03-04 14:04:54,310 - GillesPy2 - WARNING - GillesPy2 simulation exceeded timeout.\n",
      "2024-03-04 14:04:54,421 - GillesPy2 - WARNING - GillesPy2 simulation exceeded timeout.\n",
      "2024-03-04 14:04:58,786 - GillesPy2 - WARNING - GillesPy2 simulation exceeded timeout.\n",
      "2024-03-04 14:04:58,786 - GillesPy2 - WARNING - GillesPy2 simulation exceeded timeout.\n",
      "2024-03-04 14:04:58,786 - GillesPy2 - WARNING - GillesPy2 simulation exceeded timeout.\n",
      "2024-03-04 14:04:58,914 - GillesPy2 - WARNING - GillesPy2 simulation exceeded timeout.\n",
      "2024-03-04 14:05:03,627 - GillesPy2 - WARNING - GillesPy2 simulation exceeded timeout.\n",
      "2024-03-04 14:05:03,627 - GillesPy2 - WARNING - GillesPy2 simulation exceeded timeout.\n",
      "2024-03-04 14:05:03,791 - GillesPy2 - WARNING - GillesPy2 simulation exceeded timeout.\n",
      "2024-03-04 14:05:08,877 - GillesPy2 - WARNING - GillesPy2 simulation exceeded timeout.\n",
      "2024-03-04 14:05:08,882 - GillesPy2 - WARNING - GillesPy2 simulation exceeded timeout.\n",
      "2024-03-04 14:05:08,896 - GillesPy2 - WARNING - GillesPy2 simulation exceeded timeout.\n",
      "2024-03-04 14:05:09,120 - GillesPy2 - WARNING - GillesPy2 simulation exceeded timeout.\n",
      "2024-03-04 14:05:13,939 - GillesPy2 - WARNING - GillesPy2 simulation exceeded timeout.\n",
      "2024-03-04 14:05:13,939 - GillesPy2 - WARNING - GillesPy2 simulation exceeded timeout.\n",
      "2024-03-04 14:05:13,939 - GillesPy2 - WARNING - GillesPy2 simulation exceeded timeout.\n",
      "2024-03-04 14:05:14,170 - GillesPy2 - WARNING - GillesPy2 simulation exceeded timeout.\n",
      "2024-03-04 14:05:19,052 - GillesPy2 - WARNING - GillesPy2 simulation exceeded timeout.\n",
      "2024-03-04 14:05:19,055 - GillesPy2 - WARNING - GillesPy2 simulation exceeded timeout.\n",
      "2024-03-04 14:05:19,055 - GillesPy2 - WARNING - GillesPy2 simulation exceeded timeout.\n",
      "2024-03-04 14:05:19,286 - GillesPy2 - WARNING - GillesPy2 simulation exceeded timeout.\n",
      "2024-03-04 14:05:24,166 - GillesPy2 - WARNING - GillesPy2 simulation exceeded timeout.\n",
      "2024-03-04 14:05:24,171 - GillesPy2 - WARNING - GillesPy2 simulation exceeded timeout.\n",
      "2024-03-04 14:05:24,172 - GillesPy2 - WARNING - GillesPy2 simulation exceeded timeout.\n",
      "2024-03-04 14:05:24,420 - GillesPy2 - WARNING - GillesPy2 simulation exceeded timeout.\n",
      "2024-03-04 14:05:29,497 - GillesPy2 - WARNING - GillesPy2 simulation exceeded timeout.\n",
      "2024-03-04 14:05:29,497 - GillesPy2 - WARNING - GillesPy2 simulation exceeded timeout.\n",
      "2024-03-04 14:05:29,501 - GillesPy2 - WARNING - GillesPy2 simulation exceeded timeout.\n",
      "2024-03-04 14:05:29,778 - GillesPy2 - WARNING - GillesPy2 simulation exceeded timeout.\n",
      "2024-03-04 14:05:35,389 - GillesPy2 - WARNING - GillesPy2 simulation exceeded timeout.\n",
      "2024-03-04 14:05:35,390 - GillesPy2 - WARNING - GillesPy2 simulation exceeded timeout.\n",
      "2024-03-04 14:05:35,392 - GillesPy2 - WARNING - GillesPy2 simulation exceeded timeout.\n",
      "2024-03-04 14:05:35,914 - GillesPy2 - WARNING - GillesPy2 simulation exceeded timeout.\n",
      "2024-03-04 14:05:42,664 - GillesPy2 - WARNING - GillesPy2 simulation exceeded timeout.\n",
      "2024-03-04 14:05:42,666 - GillesPy2 - WARNING - GillesPy2 simulation exceeded timeout.\n",
      "2024-03-04 14:05:42,839 - GillesPy2 - WARNING - GillesPy2 simulation exceeded timeout.\n",
      "2024-03-04 14:05:43,293 - GillesPy2 - WARNING - GillesPy2 simulation exceeded timeout.\n",
      "2024-03-04 14:05:49,278 - GillesPy2 - WARNING - GillesPy2 simulation exceeded timeout.\n",
      "2024-03-04 14:05:49,288 - GillesPy2 - WARNING - GillesPy2 simulation exceeded timeout.\n",
      "2024-03-04 14:05:49,592 - GillesPy2 - WARNING - GillesPy2 simulation exceeded timeout.\n",
      "2024-03-04 14:05:50,099 - GillesPy2 - WARNING - GillesPy2 simulation exceeded timeout.\n",
      "2024-03-04 14:05:55,819 - GillesPy2 - WARNING - GillesPy2 simulation exceeded timeout.\n",
      "2024-03-04 14:05:55,822 - GillesPy2 - WARNING - GillesPy2 simulation exceeded timeout.\n",
      "2024-03-04 14:05:56,151 - GillesPy2 - WARNING - GillesPy2 simulation exceeded timeout.\n",
      "2024-03-04 14:05:56,749 - GillesPy2 - WARNING - GillesPy2 simulation exceeded timeout.\n",
      "2024-03-04 14:06:02,117 - GillesPy2 - WARNING - GillesPy2 simulation exceeded timeout.\n",
      "2024-03-04 14:06:02,119 - GillesPy2 - WARNING - GillesPy2 simulation exceeded timeout.\n",
      "2024-03-04 14:06:02,444 - GillesPy2 - WARNING - GillesPy2 simulation exceeded timeout.\n",
      "2024-03-04 14:06:02,978 - GillesPy2 - WARNING - GillesPy2 simulation exceeded timeout.\n",
      "2024-03-04 14:06:08,894 - GillesPy2 - WARNING - GillesPy2 simulation exceeded timeout.\n",
      "2024-03-04 14:06:08,902 - GillesPy2 - WARNING - GillesPy2 simulation exceeded timeout.\n",
      "2024-03-04 14:06:09,310 - GillesPy2 - WARNING - GillesPy2 simulation exceeded timeout.\n",
      "2024-03-04 14:06:09,901 - GillesPy2 - WARNING - GillesPy2 simulation exceeded timeout.\n",
      "2024-03-04 14:06:16,216 - GillesPy2 - WARNING - GillesPy2 simulation exceeded timeout.\n",
      "2024-03-04 14:06:16,224 - GillesPy2 - WARNING - GillesPy2 simulation exceeded timeout.\n",
      "2024-03-04 14:06:16,741 - GillesPy2 - WARNING - GillesPy2 simulation exceeded timeout.\n",
      "2024-03-04 14:06:17,179 - GillesPy2 - WARNING - GillesPy2 simulation exceeded timeout.\n",
      "2024-03-04 14:06:22,276 - GillesPy2 - WARNING - GillesPy2 simulation exceeded timeout.\n",
      "2024-03-04 14:06:22,276 - GillesPy2 - WARNING - GillesPy2 simulation exceeded timeout.\n",
      "2024-03-04 14:06:22,861 - GillesPy2 - WARNING - GillesPy2 simulation exceeded timeout.\n",
      "2024-03-04 14:06:23,272 - GillesPy2 - WARNING - GillesPy2 simulation exceeded timeout.\n",
      "2024-03-04 14:06:26,372 - GillesPy2 - WARNING - GillesPy2 simulation exceeded timeout.\n",
      "2024-03-04 14:06:26,998 - GillesPy2 - WARNING - GillesPy2 simulation exceeded timeout.\n",
      "2024-03-04 14:06:29,927 - GillesPy2 - WARNING - GillesPy2 simulation exceeded timeout.\n",
      "2024-03-04 14:06:33,577 - GillesPy2 - WARNING - GillesPy2 simulation exceeded timeout.\n",
      "2024-03-04 14:06:33,593 - GillesPy2 - WARNING - GillesPy2 simulation exceeded timeout.\n",
      "2024-03-04 14:06:33,955 - GillesPy2 - WARNING - GillesPy2 simulation exceeded timeout.\n",
      "2024-03-04 14:06:37,991 - GillesPy2 - WARNING - GillesPy2 simulation exceeded timeout.\n",
      "2024-03-04 14:06:42,646 - GillesPy2 - WARNING - GillesPy2 simulation exceeded timeout.\n",
      "2024-03-04 14:06:46,335 - GillesPy2 - WARNING - GillesPy2 simulation exceeded timeout.\n",
      "2024-03-04 14:06:49,814 - GillesPy2 - WARNING - GillesPy2 simulation exceeded timeout.\n",
      "2024-03-04 14:07:48,324 - GillesPy2 - WARNING - GillesPy2 simulation exceeded timeout.\n",
      "2024-03-04 14:08:43,273 - GillesPy2 - WARNING - GillesPy2 simulation exceeded timeout.\n",
      "2024-03-04 14:09:29,031 - GillesPy2 - WARNING - GillesPy2 simulation exceeded timeout.\n",
      "2024-03-04 14:09:29,089 - GillesPy2 - WARNING - GillesPy2 simulation exceeded timeout.\n",
      "2024-03-04 14:09:29,626 - GillesPy2 - WARNING - GillesPy2 simulation exceeded timeout.\n",
      "2024-03-04 14:09:32,894 - GillesPy2 - WARNING - GillesPy2 simulation exceeded timeout.\n",
      "Exception in thread Thread-1532024-03-04 14:09:32,991 - GillesPy2 - WARNING - GillesPy2 simulation exceeded timeout.\n",
      ":\n",
      "Traceback (most recent call last):\n",
      "  File \"/Library/Developer/CommandLineTools/Library/Frameworks/Python3.framework/Versions/3.9/lib/python3.9/threading.py\", line 973, in _bootstrap_inner\n",
      "    self.run()\n",
      "  File \"/Library/Developer/CommandLineTools/Library/Frameworks/Python3.framework/Versions/3.9/lib/python3.9/threading.py\", line 1286, in run\n",
      "    self.function(*self.args, **self.kwargs)\n",
      "  File \"/Users/mayanknautiyal/Library/Python/3.9/lib/python/site-packages/gillespy2/solvers/cpp/c_solver.py\", line 220, in timeout_kill\n",
      "    proc_kill(simulation)\n",
      "  File \"/Users/mayanknautiyal/Library/Python/3.9/lib/python/site-packages/gillespy2/solvers/cpp/c_solver.py\", line 186, in <lambda>\n",
      "    proc_kill = lambda sim: os.killpg(sim.pid, signal.SIGINT)\n",
      "PermissionError: [Errno 1] Operation not permitted\n",
      "2024-03-04 14:09:43,624 - GillesPy2 - WARNING - GillesPy2 simulation exceeded timeout.\n",
      "2024-03-04 14:09:43,675 - GillesPy2 - WARNING - GillesPy2 simulation exceeded timeout.\n",
      "2024-03-04 14:09:54,440 - GillesPy2 - WARNING - GillesPy2 simulation exceeded timeout.\n",
      "2024-03-04 14:10:13,125 - GillesPy2 - WARNING - GillesPy2 simulation exceeded timeout.\n",
      "2024-03-04 14:10:13,360 - GillesPy2 - WARNING - GillesPy2 simulation exceeded timeout.\n",
      "2024-03-04 14:10:16,950 - GillesPy2 - WARNING - GillesPy2 simulation exceeded timeout.\n",
      "2024-03-04 14:10:17,466 - GillesPy2 - WARNING - GillesPy2 simulation exceeded timeout.\n",
      "2024-03-04 14:10:21,093 - GillesPy2 - WARNING - GillesPy2 simulation exceeded timeout.\n",
      "2024-03-04 14:10:21,214 - GillesPy2 - WARNING - GillesPy2 simulation exceeded timeout.\n",
      "2024-03-04 14:10:21,786 - GillesPy2 - WARNING - GillesPy2 simulation exceeded timeout.\n",
      "2024-03-04 14:12:43,978 - GillesPy2 - WARNING - GillesPy2 simulation exceeded timeout.\n",
      "2024-03-04 14:12:55,376 - GillesPy2 - WARNING - GillesPy2 simulation exceeded timeout.\n",
      "2024-03-04 14:12:55,730 - GillesPy2 - WARNING - GillesPy2 simulation exceeded timeout.\n",
      "2024-03-04 14:13:30,319 - GillesPy2 - WARNING - GillesPy2 simulation exceeded timeout.\n",
      "2024-03-04 14:13:34,196 - GillesPy2 - WARNING - GillesPy2 simulation exceeded timeout.\n",
      "2024-03-04 14:13:42,013 - GillesPy2 - WARNING - GillesPy2 simulation exceeded timeout.\n",
      "2024-03-04 14:13:42,372 - GillesPy2 - WARNING - GillesPy2 simulation exceeded timeout.\n",
      "2024-03-04 14:13:43,175 - GillesPy2 - WARNING - GillesPy2 simulation exceeded timeout.\n",
      "2024-03-04 14:13:43,979 - GillesPy2 - WARNING - GillesPy2 simulation exceeded timeout.\n",
      "2024-03-04 14:13:47,703 - GillesPy2 - WARNING - GillesPy2 simulation exceeded timeout.\n",
      "2024-03-04 14:13:47,893 - GillesPy2 - WARNING - GillesPy2 simulation exceeded timeout.\n",
      "2024-03-04 14:13:48,724 - GillesPy2 - WARNING - GillesPy2 simulation exceeded timeout.\n",
      "2024-03-04 14:13:53,421 - GillesPy2 - WARNING - GillesPy2 simulation exceeded timeout.\n",
      "2024-03-04 14:13:56,221 - GillesPy2 - WARNING - GillesPy2 simulation exceeded timeout.\n",
      "2024-03-04 14:13:56,339 - GillesPy2 - WARNING - GillesPy2 simulation exceeded timeout.\n",
      "2024-03-04 14:13:57,638 - GillesPy2 - WARNING - GillesPy2 simulation exceeded timeout.\n",
      "2024-03-04 14:14:01,072 - GillesPy2 - WARNING - GillesPy2 simulation exceeded timeout.\n",
      "2024-03-04 14:14:05,244 - GillesPy2 - WARNING - GillesPy2 simulation exceeded timeout.\n",
      "2024-03-04 14:14:08,581 - GillesPy2 - WARNING - GillesPy2 simulation exceeded timeout.\n",
      "2024-03-04 14:14:09,331 - GillesPy2 - WARNING - GillesPy2 simulation exceeded timeout.\n",
      "2024-03-04 14:14:10,146 - GillesPy2 - WARNING - GillesPy2 simulation exceeded timeout.\n",
      "2024-03-04 14:14:12,783 - GillesPy2 - WARNING - GillesPy2 simulation exceeded timeout.\n",
      "2024-03-04 14:14:16,915 - GillesPy2 - WARNING - GillesPy2 simulation exceeded timeout.\n",
      "2024-03-04 14:14:16,967 - GillesPy2 - WARNING - GillesPy2 simulation exceeded timeout.\n",
      "2024-03-04 14:14:18,498 - GillesPy2 - WARNING - GillesPy2 simulation exceeded timeout.\n",
      "2024-03-04 14:14:21,252 - GillesPy2 - WARNING - GillesPy2 simulation exceeded timeout.\n",
      "2024-03-04 14:14:21,951 - GillesPy2 - WARNING - GillesPy2 simulation exceeded timeout.\n",
      "2024-03-04 14:14:25,519 - GillesPy2 - WARNING - GillesPy2 simulation exceeded timeout.\n",
      "2024-03-04 14:14:27,086 - GillesPy2 - WARNING - GillesPy2 simulation exceeded timeout.\n",
      "2024-03-04 14:14:44,116 - GillesPy2 - WARNING - GillesPy2 simulation exceeded timeout.\n",
      "2024-03-04 14:14:53,309 - GillesPy2 - WARNING - GillesPy2 simulation exceeded timeout.\n",
      "2024-03-04 14:16:02,930 - GillesPy2 - WARNING - GillesPy2 simulation exceeded timeout.\n",
      "Exception in thread Thread-373:\n",
      "Traceback (most recent call last):\n",
      "  File \"/Library/Developer/CommandLineTools/Library/Frameworks/Python3.framework/Versions/3.9/lib/python3.9/threading.py\", line 973, in _bootstrap_inner\n",
      "2024-03-04 14:16:02,977 - GillesPy2 - WARNING - GillesPy2 simulation exceeded timeout.\n",
      "    self.run()\n",
      "  File \"/Library/Developer/CommandLineTools/Library/Frameworks/Python3.framework/Versions/3.9/lib/python3.9/threading.py\", line 1286, in run\n",
      "    self.function(*self.args, **self.kwargs)\n",
      "  File \"/Users/mayanknautiyal/Library/Python/3.9/lib/python/site-packages/gillespy2/solvers/cpp/c_solver.py\", line 220, in timeout_kill\n",
      "    proc_kill(simulation)\n",
      "  File \"/Users/mayanknautiyal/Library/Python/3.9/lib/python/site-packages/gillespy2/solvers/cpp/c_solver.py\", line 186, in <lambda>\n",
      "    proc_kill = lambda sim: os.killpg(sim.pid, signal.SIGINT)\n",
      "PermissionError: [Errno 1] Operation not permitted\n",
      "2024-03-04 14:16:06,676 - GillesPy2 - WARNING - GillesPy2 simulation exceeded timeout.\n",
      "2024-03-04 14:16:13,925 - GillesPy2 - WARNING - GillesPy2 simulation exceeded timeout.\n"
     ]
    },
    {
     "ename": "KeyboardInterrupt",
     "evalue": "",
     "output_type": "error",
     "traceback": [
      "\u001b[0;31m---------------------------------------------------------------------------\u001b[0m",
      "\u001b[0;31mKeyboardInterrupt\u001b[0m                         Traceback (most recent call last)",
      "Cell \u001b[0;32mIn[5], line 2\u001b[0m\n\u001b[1;32m      1\u001b[0m villar \u001b[38;5;241m=\u001b[39m Villar()\n\u001b[0;32m----> 2\u001b[0m train_theta_norm, train_data_norm, theta_normalizer, data_normalizer, val_theta_norm, val_data_norm \u001b[38;5;241m=\u001b[39m \u001b[43mVillar\u001b[49m\u001b[38;5;241;43m.\u001b[39;49m\u001b[43mprepare_data\u001b[49m\u001b[43m(\u001b[49m\u001b[38;5;241;43m100\u001b[39;49m\u001b[43m)\u001b[49m\n\u001b[1;32m      3\u001b[0m observed_data \u001b[38;5;241m=\u001b[39m villar\u001b[38;5;241m.\u001b[39mobserved_data()\n\u001b[1;32m      4\u001b[0m \u001b[38;5;66;03m#villar.check_normalizer()\u001b[39;00m\n",
      "File \u001b[0;32m~/Desktop/Codes/CVAEI/notebooks/../cvaei/examples/villar/villar_model.py:162\u001b[0m, in \u001b[0;36mVillar.prepare_data\u001b[0;34m(self, num_samples, scale, validation)\u001b[0m\n\u001b[1;32m    160\u001b[0m \u001b[38;5;66;03m# Generate training data\u001b[39;00m\n\u001b[1;32m    161\u001b[0m villar_instance \u001b[38;5;241m=\u001b[39m Villar()\n\u001b[0;32m--> 162\u001b[0m train_theta, train_data \u001b[38;5;241m=\u001b[39m \u001b[43mvillar_instance\u001b[49m\u001b[38;5;241;43m.\u001b[39;49m\u001b[43mgenerate_data\u001b[49m\u001b[43m(\u001b[49m\u001b[43mnum_samples\u001b[49m\u001b[38;5;241;43m=\u001b[39;49m\u001b[43mnum_samples\u001b[49m\u001b[43m)\u001b[49m\n\u001b[1;32m    164\u001b[0m \u001b[38;5;66;03m# Initialize normalizers\u001b[39;00m\n\u001b[1;32m    165\u001b[0m \u001b[38;5;28mself\u001b[39m\u001b[38;5;241m.\u001b[39mtheta_normalizer \u001b[38;5;241m=\u001b[39m DataNormalizer()\n",
      "File \u001b[0;32m~/Desktop/Codes/CVAEI/notebooks/../cvaei/examples/villar/villar_model.py:138\u001b[0m, in \u001b[0;36mVillar.generate_data\u001b[0;34m(self, num_samples)\u001b[0m\n\u001b[1;32m    135\u001b[0m theta \u001b[38;5;241m=\u001b[39m \u001b[38;5;28mself\u001b[39m\u001b[38;5;241m.\u001b[39mprior(num_samples\u001b[38;5;241m=\u001b[39mnum_samples)\n\u001b[1;32m    137\u001b[0m \u001b[38;5;28;01mwith\u001b[39;00m mp\u001b[38;5;241m.\u001b[39mPool(processes\u001b[38;5;241m=\u001b[39m\u001b[38;5;241m4\u001b[39m) \u001b[38;5;28;01mas\u001b[39;00m pool:\n\u001b[0;32m--> 138\u001b[0m     data \u001b[38;5;241m=\u001b[39m \u001b[43mpool\u001b[49m\u001b[38;5;241;43m.\u001b[39;49m\u001b[43mmap\u001b[49m\u001b[43m(\u001b[49m\u001b[38;5;28;43mself\u001b[39;49m\u001b[38;5;241;43m.\u001b[39;49m\u001b[43msimulator\u001b[49m\u001b[43m,\u001b[49m\u001b[43m \u001b[49m\u001b[43mtheta\u001b[49m\u001b[43m)\u001b[49m\n\u001b[1;32m    139\u001b[0m data \u001b[38;5;241m=\u001b[39m np\u001b[38;5;241m.\u001b[39masarray(data)\n\u001b[1;32m    141\u001b[0m data \u001b[38;5;241m=\u001b[39m torch\u001b[38;5;241m.\u001b[39mtensor(data, dtype\u001b[38;5;241m=\u001b[39mtorch\u001b[38;5;241m.\u001b[39mfloat32, device\u001b[38;5;241m=\u001b[39m\u001b[38;5;28mself\u001b[39m\u001b[38;5;241m.\u001b[39mdevice)\n",
      "File \u001b[0;32m/Library/Developer/CommandLineTools/Library/Frameworks/Python3.framework/Versions/3.9/lib/python3.9/multiprocessing/pool.py:364\u001b[0m, in \u001b[0;36mPool.map\u001b[0;34m(self, func, iterable, chunksize)\u001b[0m\n\u001b[1;32m    359\u001b[0m \u001b[38;5;28;01mdef\u001b[39;00m \u001b[38;5;21mmap\u001b[39m(\u001b[38;5;28mself\u001b[39m, func, iterable, chunksize\u001b[38;5;241m=\u001b[39m\u001b[38;5;28;01mNone\u001b[39;00m):\n\u001b[1;32m    360\u001b[0m \u001b[38;5;250m    \u001b[39m\u001b[38;5;124;03m'''\u001b[39;00m\n\u001b[1;32m    361\u001b[0m \u001b[38;5;124;03m    Apply `func` to each element in `iterable`, collecting the results\u001b[39;00m\n\u001b[1;32m    362\u001b[0m \u001b[38;5;124;03m    in a list that is returned.\u001b[39;00m\n\u001b[1;32m    363\u001b[0m \u001b[38;5;124;03m    '''\u001b[39;00m\n\u001b[0;32m--> 364\u001b[0m     \u001b[38;5;28;01mreturn\u001b[39;00m \u001b[38;5;28;43mself\u001b[39;49m\u001b[38;5;241;43m.\u001b[39;49m\u001b[43m_map_async\u001b[49m\u001b[43m(\u001b[49m\u001b[43mfunc\u001b[49m\u001b[43m,\u001b[49m\u001b[43m \u001b[49m\u001b[43miterable\u001b[49m\u001b[43m,\u001b[49m\u001b[43m \u001b[49m\u001b[43mmapstar\u001b[49m\u001b[43m,\u001b[49m\u001b[43m \u001b[49m\u001b[43mchunksize\u001b[49m\u001b[43m)\u001b[49m\u001b[38;5;241;43m.\u001b[39;49m\u001b[43mget\u001b[49m\u001b[43m(\u001b[49m\u001b[43m)\u001b[49m\n",
      "File \u001b[0;32m/Library/Developer/CommandLineTools/Library/Frameworks/Python3.framework/Versions/3.9/lib/python3.9/multiprocessing/pool.py:765\u001b[0m, in \u001b[0;36mApplyResult.get\u001b[0;34m(self, timeout)\u001b[0m\n\u001b[1;32m    764\u001b[0m \u001b[38;5;28;01mdef\u001b[39;00m \u001b[38;5;21mget\u001b[39m(\u001b[38;5;28mself\u001b[39m, timeout\u001b[38;5;241m=\u001b[39m\u001b[38;5;28;01mNone\u001b[39;00m):\n\u001b[0;32m--> 765\u001b[0m     \u001b[38;5;28;43mself\u001b[39;49m\u001b[38;5;241;43m.\u001b[39;49m\u001b[43mwait\u001b[49m\u001b[43m(\u001b[49m\u001b[43mtimeout\u001b[49m\u001b[43m)\u001b[49m\n\u001b[1;32m    766\u001b[0m     \u001b[38;5;28;01mif\u001b[39;00m \u001b[38;5;129;01mnot\u001b[39;00m \u001b[38;5;28mself\u001b[39m\u001b[38;5;241m.\u001b[39mready():\n\u001b[1;32m    767\u001b[0m         \u001b[38;5;28;01mraise\u001b[39;00m \u001b[38;5;167;01mTimeoutError\u001b[39;00m\n",
      "File \u001b[0;32m/Library/Developer/CommandLineTools/Library/Frameworks/Python3.framework/Versions/3.9/lib/python3.9/multiprocessing/pool.py:762\u001b[0m, in \u001b[0;36mApplyResult.wait\u001b[0;34m(self, timeout)\u001b[0m\n\u001b[1;32m    761\u001b[0m \u001b[38;5;28;01mdef\u001b[39;00m \u001b[38;5;21mwait\u001b[39m(\u001b[38;5;28mself\u001b[39m, timeout\u001b[38;5;241m=\u001b[39m\u001b[38;5;28;01mNone\u001b[39;00m):\n\u001b[0;32m--> 762\u001b[0m     \u001b[38;5;28;43mself\u001b[39;49m\u001b[38;5;241;43m.\u001b[39;49m\u001b[43m_event\u001b[49m\u001b[38;5;241;43m.\u001b[39;49m\u001b[43mwait\u001b[49m\u001b[43m(\u001b[49m\u001b[43mtimeout\u001b[49m\u001b[43m)\u001b[49m\n",
      "File \u001b[0;32m/Library/Developer/CommandLineTools/Library/Frameworks/Python3.framework/Versions/3.9/lib/python3.9/threading.py:574\u001b[0m, in \u001b[0;36mEvent.wait\u001b[0;34m(self, timeout)\u001b[0m\n\u001b[1;32m    572\u001b[0m signaled \u001b[38;5;241m=\u001b[39m \u001b[38;5;28mself\u001b[39m\u001b[38;5;241m.\u001b[39m_flag\n\u001b[1;32m    573\u001b[0m \u001b[38;5;28;01mif\u001b[39;00m \u001b[38;5;129;01mnot\u001b[39;00m signaled:\n\u001b[0;32m--> 574\u001b[0m     signaled \u001b[38;5;241m=\u001b[39m \u001b[38;5;28;43mself\u001b[39;49m\u001b[38;5;241;43m.\u001b[39;49m\u001b[43m_cond\u001b[49m\u001b[38;5;241;43m.\u001b[39;49m\u001b[43mwait\u001b[49m\u001b[43m(\u001b[49m\u001b[43mtimeout\u001b[49m\u001b[43m)\u001b[49m\n\u001b[1;32m    575\u001b[0m \u001b[38;5;28;01mreturn\u001b[39;00m signaled\n",
      "File \u001b[0;32m/Library/Developer/CommandLineTools/Library/Frameworks/Python3.framework/Versions/3.9/lib/python3.9/threading.py:312\u001b[0m, in \u001b[0;36mCondition.wait\u001b[0;34m(self, timeout)\u001b[0m\n\u001b[1;32m    310\u001b[0m \u001b[38;5;28;01mtry\u001b[39;00m:    \u001b[38;5;66;03m# restore state no matter what (e.g., KeyboardInterrupt)\u001b[39;00m\n\u001b[1;32m    311\u001b[0m     \u001b[38;5;28;01mif\u001b[39;00m timeout \u001b[38;5;129;01mis\u001b[39;00m \u001b[38;5;28;01mNone\u001b[39;00m:\n\u001b[0;32m--> 312\u001b[0m         \u001b[43mwaiter\u001b[49m\u001b[38;5;241;43m.\u001b[39;49m\u001b[43macquire\u001b[49m\u001b[43m(\u001b[49m\u001b[43m)\u001b[49m\n\u001b[1;32m    313\u001b[0m         gotit \u001b[38;5;241m=\u001b[39m \u001b[38;5;28;01mTrue\u001b[39;00m\n\u001b[1;32m    314\u001b[0m     \u001b[38;5;28;01melse\u001b[39;00m:\n",
      "\u001b[0;31mKeyboardInterrupt\u001b[0m: "
     ]
    }
   ],
   "source": [
    "villar = Villar()\n",
    "train_theta_norm, train_data_norm, theta_normalizer, data_normalizer, val_theta_norm, val_data_norm = Villar.prepare_data(100)\n",
    "observed_data = villar.observed_data()\n",
    "#villar.check_normalizer()"
   ]
  },
  {
   "cell_type": "code",
   "execution_count": null,
   "metadata": {},
   "outputs": [],
   "source": [
    "# train_theta_norm.shape, train_data_norm.shape"
   ]
  },
  {
   "cell_type": "markdown",
   "metadata": {},
   "source": [
    "# Initialise the Model"
   ]
  },
  {
   "cell_type": "code",
   "execution_count": null,
   "metadata": {},
   "outputs": [],
   "source": [
    "# gk_dist.plot_observation(train_data_norm, num_samples =1)\n",
    "# gk_dist.plot_prior(train_theta_norm)"
   ]
  },
  {
   "cell_type": "markdown",
   "metadata": {},
   "source": [
    "# Define the CVAE Network"
   ]
  },
  {
   "cell_type": "code",
   "execution_count": null,
   "metadata": {},
   "outputs": [],
   "source": [
    "# Instantiate the CNN_CVAE model\n",
    "input_dim = 15  # Example input dimension\n",
    "latent_dim = 200  # Example latent space dimension\n",
    "conditional_dim = 3  # Based on Nx3x200 conditional input\n",
    "encoder_hidden_dims = [512,512]  # Example hidden dimensions for the encoder\n",
    "sequence_length = 200  # Length of sequences in the conditional input\n",
    "conv_output_channels = [64, 32]  # Channels in each Conv1D layer for the decoder\n",
    "kernel_sizes = [3, 3]  # Kernel sizes for the Conv1D layers in the decoder\n",
    "output_channels = 3  # Matching the original conditional input's channels\n",
    "\n",
    "\n",
    "\n",
    "network = CNN_CVAE(\n",
    "    input_dim=input_dim,\n",
    "    latent_dim=latent_dim,\n",
    "    conditional_dim=conditional_dim,\n",
    "    encoder_hidden_dims=encoder_hidden_dims,\n",
    "    decoder_hidden_dims=[],  # Assuming this is not used in the provided structure\n",
    "    sequence_length=sequence_length,\n",
    "    conv_output_channels=conv_output_channels,\n",
    "    kernel_sizes=kernel_sizes,\n",
    "    activation_fn= nn.LeakyReLU(0.1),\n",
    "    w_recon=1.0,\n",
    "    w_misfit=1.0,\n",
    "    kld=1.0\n",
    ")\n",
    "\n",
    "optimizer = optim.AdamW(network.parameters(), lr=1e-3)\n",
    "\n",
    "# train_dataset = TensorDataset(train_data_norm, train_theta_norm)\n",
    "# val_dataset = TensorDataset(val_data_norm, val_theta_norm)\n",
    "\n",
    "# train_loader = DataLoader(dataset=train_dataset, batch_size=128, shuffle=True)\n",
    "# validation_loader = DataLoader(dataset=val_dataset, batch_size=128, shuffle=False)\n",
    "\n",
    "print(network)"
   ]
  },
  {
   "cell_type": "code",
   "execution_count": null,
   "metadata": {},
   "outputs": [],
   "source": [
    "network.train_model(train_loader=train_loader,\n",
    "                    validation_loader= validation_loader,\n",
    "                    optimizer=optimizer,\n",
    "                    epochs=20,\n",
    "                    num_cycles = 1,\n",
    "                    theta_normalizer=theta_normalizer,\n",
    "                    data_normalizer=data_normalizer,\n",
    "                    \n",
    "                    patience=100)"
   ]
  },
  {
   "cell_type": "code",
   "execution_count": null,
   "metadata": {},
   "outputs": [],
   "source": [
    "network.plot_loss()"
   ]
  },
  {
   "cell_type": "markdown",
   "metadata": {},
   "source": [
    "# Inference"
   ]
  },
  {
   "cell_type": "code",
   "execution_count": null,
   "metadata": {},
   "outputs": [],
   "source": [
    "post = network.get_posterior(observed_data= observed_data, num_samples=10000)\n",
    "post = theta_normalizer.inverse_transform(post)\n"
   ]
  },
  {
   "cell_type": "code",
   "execution_count": null,
   "metadata": {},
   "outputs": [],
   "source": [
    "#gk_dist.plot_posterior(post)"
   ]
  },
  {
   "cell_type": "code",
   "execution_count": null,
   "metadata": {},
   "outputs": [],
   "source": [
    "gk_dist.posterior_hist(post)"
   ]
  }
 ],
 "metadata": {
  "kernelspec": {
   "display_name": "Python 3",
   "language": "python",
   "name": "python3"
  },
  "language_info": {
   "codemirror_mode": {
    "name": "ipython",
    "version": 3
   },
   "file_extension": ".py",
   "mimetype": "text/x-python",
   "name": "python",
   "nbconvert_exporter": "python",
   "pygments_lexer": "ipython3",
   "version": "3.9.6"
  }
 },
 "nbformat": 4,
 "nbformat_minor": 2
}
