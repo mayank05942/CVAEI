{
 "cells": [
  {
   "cell_type": "code",
   "execution_count": 1,
   "metadata": {},
   "outputs": [
    {
     "name": "stdout",
     "output_type": "stream",
     "text": [
      "Defaulting to user installation because normal site-packages is not writeable\n",
      "Obtaining file:///Users/mayanknautiyal/Desktop/Codes/CVAEI\n",
      "  Preparing metadata (setup.py) ... \u001b[?25ldone\n",
      "\u001b[?25hRequirement already satisfied: torch in /Users/mayanknautiyal/Library/Python/3.9/lib/python/site-packages (from cvaei==0.1.0) (2.2.0)\n",
      "Requirement already satisfied: numpy in /Users/mayanknautiyal/Library/Python/3.9/lib/python/site-packages (from cvaei==0.1.0) (1.26.4)\n",
      "Requirement already satisfied: matplotlib in /Users/mayanknautiyal/Library/Python/3.9/lib/python/site-packages (from cvaei==0.1.0) (3.7.1)\n",
      "Requirement already satisfied: seaborn in /Users/mayanknautiyal/Library/Python/3.9/lib/python/site-packages (from cvaei==0.1.0) (0.13.2)\n",
      "Requirement already satisfied: hyperopt in /Users/mayanknautiyal/Library/Python/3.9/lib/python/site-packages (from cvaei==0.1.0) (0.2.7)\n",
      "Requirement already satisfied: scipy in /Users/mayanknautiyal/Library/Python/3.9/lib/python/site-packages (from hyperopt->cvaei==0.1.0) (1.12.0)\n",
      "Requirement already satisfied: six in /Users/mayanknautiyal/Library/Python/3.9/lib/python/site-packages (from hyperopt->cvaei==0.1.0) (1.16.0)\n",
      "Requirement already satisfied: networkx>=2.2 in /Users/mayanknautiyal/Library/Python/3.9/lib/python/site-packages (from hyperopt->cvaei==0.1.0) (3.2.1)\n",
      "Requirement already satisfied: future in /Users/mayanknautiyal/Library/Python/3.9/lib/python/site-packages (from hyperopt->cvaei==0.1.0) (0.18.3)\n",
      "Requirement already satisfied: tqdm in /Users/mayanknautiyal/Library/Python/3.9/lib/python/site-packages (from hyperopt->cvaei==0.1.0) (4.66.2)\n",
      "Requirement already satisfied: cloudpickle in /Users/mayanknautiyal/Library/Python/3.9/lib/python/site-packages (from hyperopt->cvaei==0.1.0) (3.0.0)\n",
      "Requirement already satisfied: py4j in /Users/mayanknautiyal/Library/Python/3.9/lib/python/site-packages (from hyperopt->cvaei==0.1.0) (0.10.9.7)\n",
      "Requirement already satisfied: contourpy>=1.0.1 in /Users/mayanknautiyal/Library/Python/3.9/lib/python/site-packages (from matplotlib->cvaei==0.1.0) (1.0.7)\n",
      "Requirement already satisfied: cycler>=0.10 in /Users/mayanknautiyal/Library/Python/3.9/lib/python/site-packages (from matplotlib->cvaei==0.1.0) (0.11.0)\n",
      "Requirement already satisfied: fonttools>=4.22.0 in /Users/mayanknautiyal/Library/Python/3.9/lib/python/site-packages (from matplotlib->cvaei==0.1.0) (4.39.3)\n",
      "Requirement already satisfied: kiwisolver>=1.0.1 in /Users/mayanknautiyal/Library/Python/3.9/lib/python/site-packages (from matplotlib->cvaei==0.1.0) (1.4.4)\n",
      "Requirement already satisfied: packaging>=20.0 in /Users/mayanknautiyal/Library/Python/3.9/lib/python/site-packages (from matplotlib->cvaei==0.1.0) (23.2)\n",
      "Requirement already satisfied: pillow>=6.2.0 in /Users/mayanknautiyal/Library/Python/3.9/lib/python/site-packages (from matplotlib->cvaei==0.1.0) (9.5.0)\n",
      "Requirement already satisfied: pyparsing>=2.3.1 in /Users/mayanknautiyal/Library/Python/3.9/lib/python/site-packages (from matplotlib->cvaei==0.1.0) (3.0.9)\n",
      "Requirement already satisfied: python-dateutil>=2.7 in /Users/mayanknautiyal/Library/Python/3.9/lib/python/site-packages (from matplotlib->cvaei==0.1.0) (2.8.2)\n",
      "Requirement already satisfied: importlib-resources>=3.2.0 in /Users/mayanknautiyal/Library/Python/3.9/lib/python/site-packages (from matplotlib->cvaei==0.1.0) (5.12.0)\n",
      "Requirement already satisfied: pandas>=1.2 in /Users/mayanknautiyal/Library/Python/3.9/lib/python/site-packages (from seaborn->cvaei==0.1.0) (2.2.0)\n",
      "Requirement already satisfied: filelock in /Users/mayanknautiyal/Library/Python/3.9/lib/python/site-packages (from torch->cvaei==0.1.0) (3.13.1)\n",
      "Requirement already satisfied: typing-extensions>=4.8.0 in /Users/mayanknautiyal/Library/Python/3.9/lib/python/site-packages (from torch->cvaei==0.1.0) (4.9.0)\n",
      "Requirement already satisfied: sympy in /Users/mayanknautiyal/Library/Python/3.9/lib/python/site-packages (from torch->cvaei==0.1.0) (1.12)\n",
      "Requirement already satisfied: jinja2 in /Users/mayanknautiyal/Library/Python/3.9/lib/python/site-packages (from torch->cvaei==0.1.0) (3.1.2)\n",
      "Requirement already satisfied: fsspec in /Users/mayanknautiyal/Library/Python/3.9/lib/python/site-packages (from torch->cvaei==0.1.0) (2024.2.0)\n",
      "Requirement already satisfied: zipp>=3.1.0 in /Users/mayanknautiyal/Library/Python/3.9/lib/python/site-packages (from importlib-resources>=3.2.0->matplotlib->cvaei==0.1.0) (3.15.0)\n",
      "Requirement already satisfied: pytz>=2020.1 in /Users/mayanknautiyal/Library/Python/3.9/lib/python/site-packages (from pandas>=1.2->seaborn->cvaei==0.1.0) (2024.1)\n",
      "Requirement already satisfied: tzdata>=2022.7 in /Users/mayanknautiyal/Library/Python/3.9/lib/python/site-packages (from pandas>=1.2->seaborn->cvaei==0.1.0) (2024.1)\n",
      "Requirement already satisfied: MarkupSafe>=2.0 in /Users/mayanknautiyal/Library/Python/3.9/lib/python/site-packages (from jinja2->torch->cvaei==0.1.0) (2.1.2)\n",
      "Requirement already satisfied: mpmath>=0.19 in /Users/mayanknautiyal/Library/Python/3.9/lib/python/site-packages (from sympy->torch->cvaei==0.1.0) (1.3.0)\n",
      "Installing collected packages: cvaei\n",
      "  Running setup.py develop for cvaei\n",
      "Successfully installed cvaei\n"
     ]
    }
   ],
   "source": [
    "!pip install -e ../."
   ]
  },
  {
   "cell_type": "code",
   "execution_count": 2,
   "metadata": {},
   "outputs": [],
   "source": [
    "# %pip install --upgrade pip\n",
    "# %pip install --force-reinstall \"ray[tune]\" hyperopt\n"
   ]
  },
  {
   "cell_type": "code",
   "execution_count": 3,
   "metadata": {},
   "outputs": [],
   "source": [
    "import sys\n",
    "sys.path.insert(0, '../')  \n"
   ]
  },
  {
   "cell_type": "code",
   "execution_count": 4,
   "metadata": {},
   "outputs": [
    {
     "name": "stdout",
     "output_type": "stream",
     "text": [
      "Using device: cpu\n",
      "False\n",
      "None\n"
     ]
    }
   ],
   "source": [
    "import cvaei\n",
    "import torch\n",
    "from torch.utils.data import DataLoader, TensorDataset\n",
    "import numpy as np\n",
    "from torch import nn, optim\n",
    "#from cvaei.models.cvae_inference import CVAE\n",
    "from cvaei.examples.gk_dist import GKDistribution\n",
    "from cvaei.models.multitask_cvae import MultiTaskCVAE\n",
    "\n",
    "\n",
    "device = torch.device(\"cuda\" if torch.cuda.is_available() else \"cpu\")\n",
    "print(\"Using device:\", device)\n",
    "print(torch.cuda.is_available())\n",
    "print(torch.version.cuda)\n",
    "\n"
   ]
  },
  {
   "cell_type": "code",
   "execution_count": 5,
   "metadata": {},
   "outputs": [
    {
     "name": "stdout",
     "output_type": "stream",
     "text": [
      "Training Theta Shape: torch.Size([1000, 4])\n",
      "Training Data Shape: torch.Size([1000, 1000])\n",
      "Validation Theta Shape: torch.Size([10000, 4])\n",
      "Validation Data Shape: torch.Size([10000, 1000])\n"
     ]
    },
    {
     "ename": "TypeError",
     "evalue": "cvaei.examples.gk_dist.gk_model.GKDistribution.GNK() argument after * must be an iterable, not numpy.float64",
     "output_type": "error",
     "traceback": [
      "\u001b[0;31m---------------------------------------------------------------------------\u001b[0m",
      "\u001b[0;31mTypeError\u001b[0m                                 Traceback (most recent call last)",
      "Cell \u001b[0;32mIn[5], line 3\u001b[0m\n\u001b[1;32m      1\u001b[0m gk_dist \u001b[38;5;241m=\u001b[39m GKDistribution()\n\u001b[1;32m      2\u001b[0m train_theta_norm, train_data_norm, theta_normalizer, data_normalizer, val_theta_norm, val_data_norm \u001b[38;5;241m=\u001b[39m gk_dist\u001b[38;5;241m.\u001b[39mprepare_data(\u001b[38;5;241m1000\u001b[39m)\n\u001b[0;32m----> 3\u001b[0m observed_data \u001b[38;5;241m=\u001b[39m \u001b[43mgk_dist\u001b[49m\u001b[38;5;241;43m.\u001b[39;49m\u001b[43mobserved_data\u001b[49m\u001b[43m(\u001b[49m\u001b[43m)\u001b[49m\n\u001b[1;32m      4\u001b[0m \u001b[38;5;66;03m#gk_dist.check_normalizer()\u001b[39;00m\n",
      "File \u001b[0;32m~/Desktop/Codes/CVAEI/notebooks/../cvaei/examples/gk_dist/gk_model.py:322\u001b[0m, in \u001b[0;36mGKDistribution.observed_data\u001b[0;34m(self, true_params)\u001b[0m\n\u001b[1;32m    320\u001b[0m true_params \u001b[38;5;241m=\u001b[39m np\u001b[38;5;241m.\u001b[39marray([\u001b[38;5;241m3\u001b[39m, \u001b[38;5;241m1\u001b[39m, \u001b[38;5;241m2\u001b[39m, \u001b[38;5;241m0.5\u001b[39m])\n\u001b[1;32m    321\u001b[0m \u001b[38;5;66;03m# Simulate observed data with true parameters\u001b[39;00m\n\u001b[0;32m--> 322\u001b[0m observed_data \u001b[38;5;241m=\u001b[39m np\u001b[38;5;241m.\u001b[39marray([\u001b[38;5;28mself\u001b[39m\u001b[38;5;241m.\u001b[39mGNK(\u001b[38;5;241m*\u001b[39mtheta) \u001b[38;5;28;01mfor\u001b[39;00m theta \u001b[38;5;129;01min\u001b[39;00m true_params])\n\u001b[1;32m    323\u001b[0m observed_data \u001b[38;5;241m=\u001b[39m torch\u001b[38;5;241m.\u001b[39mtensor(\n\u001b[1;32m    324\u001b[0m     observed_data, dtype\u001b[38;5;241m=\u001b[39mtorch\u001b[38;5;241m.\u001b[39mfloat32, device\u001b[38;5;241m=\u001b[39m\u001b[38;5;28mself\u001b[39m\u001b[38;5;241m.\u001b[39mdevice\n\u001b[1;32m    325\u001b[0m )\n\u001b[1;32m    327\u001b[0m \u001b[38;5;66;03m# Normalize the observed data using the previously fit data normalizer\u001b[39;00m\n",
      "File \u001b[0;32m~/Desktop/Codes/CVAEI/notebooks/../cvaei/examples/gk_dist/gk_model.py:322\u001b[0m, in \u001b[0;36m<listcomp>\u001b[0;34m(.0)\u001b[0m\n\u001b[1;32m    320\u001b[0m true_params \u001b[38;5;241m=\u001b[39m np\u001b[38;5;241m.\u001b[39marray([\u001b[38;5;241m3\u001b[39m, \u001b[38;5;241m1\u001b[39m, \u001b[38;5;241m2\u001b[39m, \u001b[38;5;241m0.5\u001b[39m])\n\u001b[1;32m    321\u001b[0m \u001b[38;5;66;03m# Simulate observed data with true parameters\u001b[39;00m\n\u001b[0;32m--> 322\u001b[0m observed_data \u001b[38;5;241m=\u001b[39m np\u001b[38;5;241m.\u001b[39marray([\u001b[38;5;28;43mself\u001b[39;49m\u001b[38;5;241;43m.\u001b[39;49m\u001b[43mGNK\u001b[49m\u001b[43m(\u001b[49m\u001b[38;5;241;43m*\u001b[39;49m\u001b[43mtheta\u001b[49m\u001b[43m)\u001b[49m \u001b[38;5;28;01mfor\u001b[39;00m theta \u001b[38;5;129;01min\u001b[39;00m true_params])\n\u001b[1;32m    323\u001b[0m observed_data \u001b[38;5;241m=\u001b[39m torch\u001b[38;5;241m.\u001b[39mtensor(\n\u001b[1;32m    324\u001b[0m     observed_data, dtype\u001b[38;5;241m=\u001b[39mtorch\u001b[38;5;241m.\u001b[39mfloat32, device\u001b[38;5;241m=\u001b[39m\u001b[38;5;28mself\u001b[39m\u001b[38;5;241m.\u001b[39mdevice\n\u001b[1;32m    325\u001b[0m )\n\u001b[1;32m    327\u001b[0m \u001b[38;5;66;03m# Normalize the observed data using the previously fit data normalizer\u001b[39;00m\n",
      "\u001b[0;31mTypeError\u001b[0m: cvaei.examples.gk_dist.gk_model.GKDistribution.GNK() argument after * must be an iterable, not numpy.float64"
     ]
    }
   ],
   "source": [
    "gk_dist = GKDistribution()\n",
    "train_theta_norm, train_data_norm, theta_normalizer, data_normalizer, val_theta_norm, val_data_norm = gk_dist.prepare_data(1000)\n",
    "observed_data = gk_dist.observed_data()\n",
    "#gk_dist.check_normalizer()"
   ]
  },
  {
   "cell_type": "code",
   "execution_count": null,
   "metadata": {},
   "outputs": [],
   "source": [
    "train_theta_norm.shape, train_data_norm.shape"
   ]
  },
  {
   "cell_type": "markdown",
   "metadata": {},
   "source": [
    "# Initialise the Model"
   ]
  },
  {
   "cell_type": "code",
   "execution_count": null,
   "metadata": {},
   "outputs": [],
   "source": [
    "gk_dist.plot_observation(train_data_norm, num_samples =1)\n",
    "gk_dist.plot_prior(train_theta_norm)"
   ]
  },
  {
   "cell_type": "markdown",
   "metadata": {},
   "source": [
    "# Define the CVAE Network"
   ]
  },
  {
   "cell_type": "code",
   "execution_count": null,
   "metadata": {},
   "outputs": [],
   "source": [
    "input_dim = 4\n",
    "latent_dim = 20\n",
    "conditional_dim = 1000\n",
    "encoder_hidden_dims = [1024]\n",
    "decoder_hidden_dims = [1024,1024]\n",
    "activation_fn = nn.LeakyReLU(0.1)\n",
    "\n",
    "# network = CVAE(input_dim=input_dim, \n",
    "#                latent_dim=latent_dim, \n",
    "#                output_dim=input_dim,\n",
    "#                 conditional_dim=conditional_dim,\n",
    "#                 encoder_hidden_dims=encoder_hidden_dims,\n",
    "#                 decoder_hidden_dims=decoder_hidden_dims,\n",
    "#                 activation_fn = activation_fn,\n",
    "#                 w_recon=1.0, \n",
    "#                 w_misfit=0.01,\n",
    "# )\n",
    "\n",
    "network = MultiTaskCVAE(input_dim=input_dim, \n",
    "               latent_dim=latent_dim, \n",
    "               output_dim=input_dim,\n",
    "                conditional_dim=conditional_dim,\n",
    "                encoder_hidden_dims=encoder_hidden_dims,\n",
    "                decoder_hidden_dims=decoder_hidden_dims,\n",
    "                activation_fn = activation_fn,\n",
    "                w_recon=1.0, \n",
    "                w_misfit=1.0)\n",
    "\n",
    "optimizer = optim.AdamW(network.parameters(), lr=1e-3)\n",
    "\n",
    "train_dataset = TensorDataset(train_data_norm, train_theta_norm)\n",
    "val_dataset = TensorDataset(val_data_norm, val_theta_norm)\n",
    "\n",
    "train_loader = DataLoader(dataset=train_dataset, batch_size=128, shuffle=True)\n",
    "validation_loader = DataLoader(dataset=val_dataset, batch_size=128, shuffle=False)\n",
    "\n",
    "# network.tune_model(train_loader = train_loader, \n",
    "#                 validation_loader = validation_loader,\n",
    "#                 theta_normalizer=theta_normalizer,\n",
    "#                 data_normalizer=data_normalizer,\n",
    "#                 forward_model= gk_dist.simulator)"
   ]
  },
  {
   "cell_type": "code",
   "execution_count": null,
   "metadata": {},
   "outputs": [],
   "source": [
    "print(network)"
   ]
  },
  {
   "cell_type": "code",
   "execution_count": null,
   "metadata": {},
   "outputs": [],
   "source": [
    "network.train_model(train_loader=train_loader,\n",
    "                    validation_loader= validation_loader,\n",
    "                    optimizer=optimizer,\n",
    "                    epochs=20,\n",
    "                    num_cycles = 1,\n",
    "                    theta_normalizer=theta_normalizer,\n",
    "                    data_normalizer=data_normalizer,\n",
    "                    \n",
    "                    patience=100)"
   ]
  },
  {
   "cell_type": "code",
   "execution_count": null,
   "metadata": {},
   "outputs": [],
   "source": [
    "network.plot_loss()"
   ]
  },
  {
   "cell_type": "markdown",
   "metadata": {},
   "source": [
    "# Inference"
   ]
  },
  {
   "cell_type": "code",
   "execution_count": null,
   "metadata": {},
   "outputs": [],
   "source": [
    "post = network.get_posterior(observed_data= observed_data, num_samples=10000)\n",
    "post = theta_normalizer.inverse_transform(post)\n"
   ]
  },
  {
   "cell_type": "code",
   "execution_count": null,
   "metadata": {},
   "outputs": [],
   "source": [
    "#gk_dist.plot_posterior(post)"
   ]
  },
  {
   "cell_type": "code",
   "execution_count": null,
   "metadata": {},
   "outputs": [],
   "source": [
    "gk_dist.posterior_hist(post)"
   ]
  }
 ],
 "metadata": {
  "kernelspec": {
   "display_name": "Python 3",
   "language": "python",
   "name": "python3"
  },
  "language_info": {
   "codemirror_mode": {
    "name": "ipython",
    "version": 3
   },
   "file_extension": ".py",
   "mimetype": "text/x-python",
   "name": "python",
   "nbconvert_exporter": "python",
   "pygments_lexer": "ipython3",
   "version": "3.9.6"
  }
 },
 "nbformat": 4,
 "nbformat_minor": 2
}
