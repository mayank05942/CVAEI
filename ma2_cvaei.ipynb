{
 "cells": [
  {
   "cell_type": "code",
   "execution_count": 1,
   "metadata": {},
   "outputs": [
    {
     "name": "stdout",
     "output_type": "stream",
     "text": [
      "Defaulting to user installation because normal site-packages is not writeable\n",
      "Obtaining file:///Users/mayanknautiyal/Desktop/Codes/CVAEI\n",
      "  Preparing metadata (setup.py) ... \u001b[?25ldone\n",
      "\u001b[?25hRequirement already satisfied: torch in /Users/mayanknautiyal/Library/Python/3.9/lib/python/site-packages (from cvaei==0.1.0) (2.2.0)\n",
      "Requirement already satisfied: numpy in /Users/mayanknautiyal/Library/Python/3.9/lib/python/site-packages (from cvaei==0.1.0) (1.23.5)\n",
      "Requirement already satisfied: filelock in /Users/mayanknautiyal/Library/Python/3.9/lib/python/site-packages (from torch->cvaei==0.1.0) (3.13.1)\n",
      "Requirement already satisfied: typing-extensions>=4.8.0 in /Users/mayanknautiyal/Library/Python/3.9/lib/python/site-packages (from torch->cvaei==0.1.0) (4.9.0)\n",
      "Requirement already satisfied: sympy in /Users/mayanknautiyal/Library/Python/3.9/lib/python/site-packages (from torch->cvaei==0.1.0) (1.12)\n",
      "Requirement already satisfied: networkx in /Users/mayanknautiyal/Library/Python/3.9/lib/python/site-packages (from torch->cvaei==0.1.0) (3.2.1)\n",
      "Requirement already satisfied: jinja2 in /Users/mayanknautiyal/Library/Python/3.9/lib/python/site-packages (from torch->cvaei==0.1.0) (3.1.2)\n",
      "Requirement already satisfied: fsspec in /Users/mayanknautiyal/Library/Python/3.9/lib/python/site-packages (from torch->cvaei==0.1.0) (2023.4.0)\n",
      "Requirement already satisfied: MarkupSafe>=2.0 in /Users/mayanknautiyal/Library/Python/3.9/lib/python/site-packages (from jinja2->torch->cvaei==0.1.0) (2.1.2)\n",
      "Requirement already satisfied: mpmath>=0.19 in /Users/mayanknautiyal/Library/Python/3.9/lib/python/site-packages (from sympy->torch->cvaei==0.1.0) (1.3.0)\n",
      "Installing collected packages: cvaei\n",
      "  Running setup.py develop for cvaei\n",
      "Successfully installed cvaei\n"
     ]
    }
   ],
   "source": [
    "!pip install -e ."
   ]
  },
  {
   "cell_type": "code",
   "execution_count": 2,
   "metadata": {},
   "outputs": [],
   "source": [
    "import sys\n",
    "sys.path.append('/path/to/CVAEI')\n"
   ]
  },
  {
   "cell_type": "code",
   "execution_count": 3,
   "metadata": {},
   "outputs": [
    {
     "name": "stdout",
     "output_type": "stream",
     "text": [
      "/Users/mayanknautiyal/Desktop/Codes/CVAEI\n"
     ]
    }
   ],
   "source": [
    "import os\n",
    "print(os.getcwd())\n"
   ]
  },
  {
   "cell_type": "code",
   "execution_count": 4,
   "metadata": {},
   "outputs": [
    {
     "ename": "ModuleNotFoundError",
     "evalue": "No module named 'examples.MA2.ma2_model'",
     "output_type": "error",
     "traceback": [
      "\u001b[0;31m---------------------------------------------------------------------------\u001b[0m",
      "\u001b[0;31mModuleNotFoundError\u001b[0m                       Traceback (most recent call last)",
      "Cell \u001b[0;32mIn[4], line 11\u001b[0m\n\u001b[1;32m      9\u001b[0m \u001b[38;5;28;01mfrom\u001b[39;00m \u001b[38;5;21;01mcvaei\u001b[39;00m\u001b[38;5;21;01m.\u001b[39;00m\u001b[38;5;21;01mhelper\u001b[39;00m \u001b[38;5;28;01mimport\u001b[39;00m DataNormalizer\n\u001b[1;32m     10\u001b[0m \u001b[38;5;28;01mfrom\u001b[39;00m \u001b[38;5;21;01mcvaei\u001b[39;00m\u001b[38;5;21;01m.\u001b[39;00m\u001b[38;5;21;01mvisualize\u001b[39;00m \u001b[38;5;28;01mimport\u001b[39;00m scatter_plot_ma2\n\u001b[0;32m---> 11\u001b[0m \u001b[38;5;28;01mfrom\u001b[39;00m \u001b[38;5;21;01mexamples\u001b[39;00m\u001b[38;5;21;01m.\u001b[39;00m\u001b[38;5;21;01mMA2\u001b[39;00m\u001b[38;5;21;01m.\u001b[39;00m\u001b[38;5;21;01mma2_model\u001b[39;00m \u001b[38;5;28;01mimport\u001b[39;00m MovingAverage2\n\u001b[1;32m     13\u001b[0m \u001b[38;5;66;03m# Now you can use MovingAverage2 directly\u001b[39;00m\n\u001b[1;32m     14\u001b[0m model \u001b[38;5;241m=\u001b[39m MovingAverage2()\n",
      "File \u001b[0;32m~/Desktop/Codes/CVAEI/examples/MA2/__init__.py:2\u001b[0m\n\u001b[1;32m      1\u001b[0m \u001b[38;5;66;03m# examples/MA2/__init__.py\u001b[39;00m\n\u001b[0;32m----> 2\u001b[0m \u001b[38;5;28;01mfrom\u001b[39;00m \u001b[38;5;21;01m.\u001b[39;00m\u001b[38;5;21;01mma2_model\u001b[39;00m \u001b[38;5;28;01mimport\u001b[39;00m MovingAverage2\n",
      "\u001b[0;31mModuleNotFoundError\u001b[0m: No module named 'examples.MA2.ma2_model'"
     ]
    }
   ],
   "source": [
    "import cvaei\n",
    "import torch\n",
    "from torch import optim\n",
    "from torch.utils.data import DataLoader, TensorDataset\n",
    "import numpy as np\n",
    "device = torch.device('cuda' if torch.cuda.is_available() else 'cpu')\n",
    "#device = torch.device(\"mps\")\n",
    "from cvaei.models.cvae_inference import CVAE\n",
    "from cvaei.helper import DataNormalizer\n",
    "from cvaei.visualize import scatter_plot_ma2\n",
    "from examples.MA2.ma2_model import MovingAverage2\n",
    "\n",
    "# Now you can use MovingAverage2 directly\n",
    "model = MovingAverage2()\n",
    "\n",
    "\n",
    "\n"
   ]
  },
  {
   "cell_type": "code",
   "execution_count": null,
   "metadata": {},
   "outputs": [],
   "source": [
    "model = MovingAverage2()"
   ]
  },
  {
   "cell_type": "code",
   "execution_count": null,
   "metadata": {},
   "outputs": [],
   "source": [
    "\n",
    "# input_dim = 10  \n",
    "# latent_dim = 2\n",
    "# conditional_dim = 5  \n",
    "# encoder_hidden_dims = [256, 128, 64]\n",
    "# decoder_hidden_dims = [64, 128, 256]\n",
    "\n",
    "\n",
    "# network = CVAE(input_dim=input_dim, latent_dim=latent_dim, output_dim=input_dim,\n",
    "#         conditional_dim=conditional_dim, encoder_hidden_dims=encoder_hidden_dims,\n",
    "#         decoder_hidden_dims=decoder_hidden_dims)\n",
    "\n",
    "\n",
    "# optimizer = optim.Adam(network.parameters(), lr=1e-3)\n",
    "\n",
    "\n",
    "# num_samples = 1000  \n",
    "# x_dummy = torch.randn(num_samples, input_dim)  \n",
    "# theta = torch.tensor(x_dummy, dtype=torch.float32)\n",
    "\n",
    "# c_dummy = torch.randn(num_samples, conditional_dim)\n",
    "# data = torch.tensor(c_dummy, dtype=torch.float32)\n",
    "\n",
    "# theta_normalizer = DataNormalizer()\n",
    "# data_normalizer = DataNormalizer()\n",
    "\n",
    "# # Fit and transform thetas\n",
    "# theta_normalizer.fit(theta)\n",
    "# train_theta_norm = theta_normalizer.transform(theta)\n",
    "\n",
    "# # Fit and transform data\n",
    "# data_normalizer.fit(data)\n",
    "# train_data_norm = data_normalizer.transform(data)\n",
    "\n",
    "# print(theta.shape, data.shape)\n",
    "\n",
    "# train_dataset = TensorDataset(train_data_norm, train_theta_norm)\n",
    "# train_loader = DataLoader(dataset=train_dataset, batch_size=64, shuffle=True)\n",
    "\n",
    "\n",
    "\n",
    "\n",
    "\n",
    "# network.train_model(train_loader=train_loader, optimizer=optimizer, epochs=100, \n",
    "#                     device=device, theta_normalizer=theta_normalizer, data_normalizer=data_normalizer, forward_model=dummy)"
   ]
  },
  {
   "cell_type": "code",
   "execution_count": null,
   "metadata": {},
   "outputs": [],
   "source": [
    "def simulator(param, seed=42):\n",
    "    \"\"\"\n",
    "    Simulate a given parameter combination using PyTorch tensors.\n",
    "\n",
    "    Parameters\n",
    "    ----------\n",
    "    param : tensor\n",
    "        Parameters to simulate (\\theta).\n",
    "    n : integer\n",
    "        Time series length\n",
    "    \"\"\"\n",
    "    torch.manual_seed(seed)\n",
    "    \n",
    "    n =  100\n",
    "    m = len(param)\n",
    "    g = torch.randn(n)\n",
    "    gy = torch.randn(n) *  0.3\n",
    "    y = torch.zeros(n)\n",
    "    x = torch.zeros(n)\n",
    "    for t in range(n):\n",
    "        x[t] += g[t]\n",
    "        for p in range(min(t, m)):\n",
    "            x[t] += g[t -  1 - p] * param[p]\n",
    "        y[t] = x[t] + gy[t]\n",
    "\n",
    "    return y\n",
    "\n",
    "\n",
    "def prior(num_samples):\n",
    "    \"\"\"\n",
    "    Sample parameters or thetas from the prior using PyTorch tensors.\n",
    "\n",
    "    Parameters\n",
    "    ----------\n",
    "    n : integer\n",
    "        Number of random samples to draw or sample.\n",
    "    \"\"\"\n",
    "    n = num_samples\n",
    "    p = []\n",
    "    trials =  0\n",
    "    acc =  0\n",
    "    while acc < n:\n",
    "        trials +=  1\n",
    "        r = torch.rand(2) * torch.tensor([4,  2]) + torch.tensor([-2, -1])\n",
    "        if r[1] + r[0] >= -1 and r[1] - r[0] >= -1:\n",
    "            p.append(r)\n",
    "            acc +=  1\n",
    "    return torch.stack(p)\n",
    "\n",
    "def generate_data(num_samples=1000):\n",
    "    theta = prior(num_samples=num_samples)\n",
    "    data = torch.stack([simulator(t) for t in theta])\n",
    "    return theta, data\n"
   ]
  },
  {
   "cell_type": "code",
   "execution_count": null,
   "metadata": {},
   "outputs": [],
   "source": [
    "theta, data = generate_data(10000)"
   ]
  },
  {
   "cell_type": "code",
   "execution_count": null,
   "metadata": {},
   "outputs": [
    {
     "name": "stdout",
     "output_type": "stream",
     "text": [
      "torch.Size([10000, 2]) torch.Size([10000, 100])\n",
      "Using CPU\n",
      "Epoch [1/10], Beta: 0.0000, Average Loss: 0.6515, Recon Loss: 0.0156, Misfit Loss: 0.6360, KL Div: 0.3674\n",
      "Epoch [2/10], Beta: 0.1000, Average Loss: 0.0054, Recon Loss: 0.0000, Misfit Loss: 0.0015, KL Div: 0.0385\n",
      "Epoch [3/10], Beta: 0.2000, Average Loss: 0.0008, Recon Loss: 0.0000, Misfit Loss: 0.0008, KL Div: 0.0003\n",
      "Epoch [4/10], Beta: 0.3000, Average Loss: 0.0008, Recon Loss: 0.0000, Misfit Loss: 0.0008, KL Div: 0.0001\n",
      "Epoch [5/10], Beta: 0.4000, Average Loss: 0.0012, Recon Loss: 0.0000, Misfit Loss: 0.0011, KL Div: 0.0000\n",
      "Epoch [6/10], Beta: 0.5000, Average Loss: 0.0101, Recon Loss: 0.0002, Misfit Loss: 0.0099, KL Div: 0.0000\n",
      "Epoch [7/10], Beta: 0.6000, Average Loss: 0.0007, Recon Loss: 0.0000, Misfit Loss: 0.0007, KL Div: 0.0000\n",
      "Epoch [8/10], Beta: 0.7000, Average Loss: 0.0009, Recon Loss: 0.0000, Misfit Loss: 0.0009, KL Div: 0.0000\n",
      "Epoch [9/10], Beta: 0.8000, Average Loss: 0.0084, Recon Loss: 0.0002, Misfit Loss: 0.0082, KL Div: 0.0000\n",
      "Epoch [10/10], Beta: 0.9000, Average Loss: 0.0018, Recon Loss: 0.0000, Misfit Loss: 0.0018, KL Div: 0.0000\n"
     ]
    }
   ],
   "source": [
    "input_dim = 2\n",
    "latent_dim = 10\n",
    "conditional_dim = 100\n",
    "encoder_hidden_dims = [128, 128]\n",
    "decoder_hidden_dims = [512,512,512]\n",
    "\n",
    "\n",
    "network = CVAE(input_dim=input_dim, latent_dim=latent_dim, output_dim=input_dim,\n",
    "        conditional_dim=conditional_dim, encoder_hidden_dims=encoder_hidden_dims,\n",
    "        decoder_hidden_dims=decoder_hidden_dims)\n",
    "\n",
    "\n",
    "optimizer = optim.AdamW(network.parameters(), lr=1e-3)\n",
    "\n",
    "\n",
    "theta_normalizer = DataNormalizer()\n",
    "data_normalizer = DataNormalizer()\n",
    "\n",
    "# Fit and transform thetas\n",
    "theta_normalizer.fit(theta)\n",
    "train_theta_norm = theta_normalizer.transform(theta)\n",
    "\n",
    "# Fit and transform data\n",
    "data_normalizer.fit(data)\n",
    "train_data_norm = data_normalizer.transform(data)\n",
    "\n",
    "print(theta.shape, data.shape)\n",
    "\n",
    "train_dataset = TensorDataset(train_data_norm, train_theta_norm)\n",
    "train_loader = DataLoader(dataset=train_dataset, batch_size=64, shuffle=True)\n",
    "\n",
    "network.train_model(train_loader=train_loader, optimizer=optimizer, epochs=10, \n",
    "                    device=device, theta_normalizer=theta_normalizer,\n",
    "                      data_normalizer=data_normalizer, forward_model= simulator)"
   ]
  },
  {
   "cell_type": "code",
   "execution_count": null,
   "metadata": {},
   "outputs": [
    {
     "name": "stdout",
     "output_type": "stream",
     "text": [
      "torch.Size([10000, 10]) torch.Size([10000, 100])\n"
     ]
    }
   ],
   "source": [
    "\n",
    "true_param = torch.tensor([0.6,0.2])\n",
    "observed_data = simulator(true_param)\n",
    "post = network.get_posterior(observed_data= observed_data, num_samples=10000)\n",
    "post = theta_normalizer.inverse_transform(post)"
   ]
  },
  {
   "cell_type": "code",
   "execution_count": null,
   "metadata": {},
   "outputs": [
    {
     "data": {
      "image/png": "[encoded data removed]",
      "text/plain": [
       "<Figure size 1000x500 with 1 Axes>"
      ]
     },
     "metadata": {},
     "output_type": "display_data"
    }
   ],
   "source": [
    "scatter_plot_ma2(post)"
   ]
  },
  {
   "cell_type": "code",
   "execution_count": null,
   "metadata": {},
   "outputs": [
    {
     "ename": "NameError",
     "evalue": "name 'posterior' is not defined",
     "output_type": "error",
     "traceback": [
      "\u001b[0;31m---------------------------------------------------------------------------\u001b[0m",
      "\u001b[0;31mNameError\u001b[0m                                 Traceback (most recent call last)",
      "Cell \u001b[0;32mIn[9], line 1\u001b[0m\n\u001b[0;32m----> 1\u001b[0m prior, simulator, \u001b[43mposterior\u001b[49m\n",
      "\u001b[0;31mNameError\u001b[0m: name 'posterior' is not defined"
     ]
    }
   ],
   "source": [
    "prior, simulator, posterior"
   ]
  }
 ],
 "metadata": {
  "kernelspec": {
   "display_name": "Python 3",
   "language": "python",
   "name": "python3"
  },
  "language_info": {
   "codemirror_mode": {
    "name": "ipython",
    "version": 3
   },
   "file_extension": ".py",
   "mimetype": "text/x-python",
   "name": "python",
   "nbconvert_exporter": "python",
   "pygments_lexer": "ipython3",
   "version": "3.9.6"
  }
 },
 "nbformat": 4,
 "nbformat_minor": 2
}
