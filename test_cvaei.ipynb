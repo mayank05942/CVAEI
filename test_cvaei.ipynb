{
 "cells": [
  {
   "cell_type": "code",
   "execution_count": 1,
   "metadata": {},
   "outputs": [
    {
     "name": "stdout",
     "output_type": "stream",
     "text": [
      "Defaulting to user installation because normal site-packages is not writeable\n",
      "Obtaining file:///Users/mayanknautiyal/Desktop/Codes/CVAEI/cvaei\n",
      "\u001b[31mERROR: file:///Users/mayanknautiyal/Desktop/Codes/CVAEI/cvaei does not appear to be a Python project: neither 'setup.py' nor 'pyproject.toml' found.\u001b[0m\u001b[31m\n",
      "\u001b[0m\n",
      "\u001b[1m[\u001b[0m\u001b[34;49mnotice\u001b[0m\u001b[1;39;49m]\u001b[0m\u001b[39;49m A new release of pip is available: \u001b[0m\u001b[31;49m23.2.1\u001b[0m\u001b[39;49m -> \u001b[0m\u001b[32;49m24.0\u001b[0m\n",
      "\u001b[1m[\u001b[0m\u001b[34;49mnotice\u001b[0m\u001b[1;39;49m]\u001b[0m\u001b[39;49m To update, run: \u001b[0m\u001b[32;49m/Library/Developer/CommandLineTools/usr/bin/python3 -m pip install --upgrade pip\u001b[0m\n",
      "Note: you may need to restart the kernel to use updated packages.\n"
     ]
    }
   ],
   "source": [
    "pip install -e ./cvaei\n"
   ]
  },
  {
   "cell_type": "code",
   "execution_count": 2,
   "metadata": {},
   "outputs": [],
   "source": [
    "import cvaei\n",
    "import torch\n",
    "from torch import optim\n",
    "from torch.utils.data import DataLoader, TensorDataset\n",
    "import numpy as np\n",
    "device = torch.device('cuda' if torch.cuda.is_available() else 'cpu')\n",
    "from cvaei.models.cvae_inference import CVAE \n"
   ]
  },
  {
   "cell_type": "code",
   "execution_count": 3,
   "metadata": {},
   "outputs": [
    {
     "name": "stderr",
     "output_type": "stream",
     "text": [
      "/var/folders/b1/bkdknbw50tv9cxhq0px4fp6h0000gn/T/ipykernel_9187/1302109949.py:18: UserWarning: To copy construct from a tensor, it is recommended to use sourceTensor.clone().detach() or sourceTensor.clone().detach().requires_grad_(True), rather than torch.tensor(sourceTensor).\n",
      "  theta = torch.tensor(x_dummy, dtype=torch.float32)\n",
      "/var/folders/b1/bkdknbw50tv9cxhq0px4fp6h0000gn/T/ipykernel_9187/1302109949.py:21: UserWarning: To copy construct from a tensor, it is recommended to use sourceTensor.clone().detach() or sourceTensor.clone().detach().requires_grad_(True), rather than torch.tensor(sourceTensor).\n",
      "  data = torch.tensor(c_dummy, dtype=torch.float32)\n"
     ]
    },
    {
     "name": "stdout",
     "output_type": "stream",
     "text": [
      "torch.Size([1000, 10]) torch.Size([1000, 5])\n",
      "Epoch [1/10], Average Loss: 9.7147\n",
      "Epoch [2/10], Average Loss: 9.5229\n",
      "Epoch [3/10], Average Loss: 8.6526\n",
      "Epoch [4/10], Average Loss: 8.1669\n",
      "Epoch [5/10], Average Loss: 8.0214\n",
      "Epoch [6/10], Average Loss: 7.9326\n",
      "Epoch [7/10], Average Loss: 7.8765\n",
      "Epoch [8/10], Average Loss: 7.7973\n",
      "Epoch [9/10], Average Loss: 7.7610\n",
      "Epoch [10/10], Average Loss: 7.7021\n"
     ]
    }
   ],
   "source": [
    "\n",
    "input_dim = 10  \n",
    "latent_dim = 2\n",
    "conditional_dim = 5  \n",
    "encoder_hidden_dims = [256, 128, 64]\n",
    "decoder_hidden_dims = [64, 128, 256]\n",
    "\n",
    "\n",
    "network = CVAE(input_dim=input_dim, latent_dim=latent_dim, output_dim=input_dim,\n",
    "        conditional_dim=conditional_dim, encoder_hidden_dims=encoder_hidden_dims,\n",
    "        decoder_hidden_dims=decoder_hidden_dims)\n",
    "\n",
    "\n",
    "optimizer = optim.Adam(network.parameters(), lr=1e-3)\n",
    "\n",
    "\n",
    "num_samples = 1000  \n",
    "x_dummy = torch.randn(num_samples, input_dim)  \n",
    "theta = torch.tensor(x_dummy, dtype=torch.float32)\n",
    "\n",
    "c_dummy = torch.randn(num_samples, conditional_dim)\n",
    "data = torch.tensor(c_dummy, dtype=torch.float32)\n",
    "\n",
    "print(theta.shape, data.shape)\n",
    "\n",
    "train_dataset = TensorDataset(data, theta)\n",
    "train_loader = DataLoader(dataset=train_dataset, batch_size=64, shuffle=True)\n",
    "\n",
    "\n",
    "\n",
    "network.train_model(train_loader=train_loader, optimizer=optimizer, epochs=10, device=device)\n",
    "\n"
   ]
  }
 ],
 "metadata": {
  "kernelspec": {
   "display_name": "Python 3",
   "language": "python",
   "name": "python3"
  },
  "language_info": {
   "codemirror_mode": {
    "name": "ipython",
    "version": 3
   },
   "file_extension": ".py",
   "mimetype": "text/x-python",
   "name": "python",
   "nbconvert_exporter": "python",
   "pygments_lexer": "ipython3",
   "version": "3.9.6"
  }
 },
 "nbformat": 4,
 "nbformat_minor": 2
}
